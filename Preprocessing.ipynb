{
 "cells": [
  {
   "cell_type": "markdown",
   "id": "58705c2a",
   "metadata": {},
   "source": [
    "## Importing Libraries"
   ]
  },
  {
   "cell_type": "code",
   "execution_count": 3,
   "id": "a67f7921",
   "metadata": {},
   "outputs": [],
   "source": [
    "# NLP\n",
    "import nltk"
   ]
  },
  {
   "cell_type": "code",
   "execution_count": 13,
   "id": "0078ae97",
   "metadata": {},
   "outputs": [],
   "source": [
    "# General Libraries\n",
    "import re\n",
    "# NLP\n",
    "from nltk.stem import WordNetLemmatizer\n",
    "from nltk.stem.snowball import SnowballStemmer\n",
    "from nltk.corpus import stopwords\n",
    "from nltk.tokenize import wordpunct_tokenize,word_tokenize\n",
    "# Pymongo\n",
    "from pymongo import MongoClient\n",
    "from pymongo.errors import DuplicateKeyError"
   ]
  },
  {
   "cell_type": "code",
   "execution_count": 8,
   "id": "e06c733c",
   "metadata": {},
   "outputs": [
    {
     "name": "stderr",
     "output_type": "stream",
     "text": [
      "[nltk_data] Downloading package stopwords to C:\\Users\\Kishor\n",
      "[nltk_data]     Satpute\\AppData\\Roaming\\nltk_data...\n",
      "[nltk_data]   Package stopwords is already up-to-date!\n",
      "[nltk_data] Downloading package wordnet to C:\\Users\\Kishor\n",
      "[nltk_data]     Satpute\\AppData\\Roaming\\nltk_data...\n",
      "[nltk_data]   Package wordnet is already up-to-date!\n"
     ]
    }
   ],
   "source": [
    "# Check if corpus of stopwords and wordnet exists\n",
    "try:\n",
    "    nltk.find('stopwords')\n",
    "    nltk.find('wordnet')\n",
    "except LookupError:\n",
    "    nltk.download('stopwords')\n",
    "    nltk.download('wordnet')"
   ]
  },
  {
   "cell_type": "code",
   "execution_count": 9,
   "id": "555eb563",
   "metadata": {},
   "outputs": [],
   "source": [
    "client = MongoClient('localhost',27017)\n",
    "db = client['eclipse']\n",
    "collection = db['initial']\n",
    "\n",
    "# Created new collection to store processed documents\n",
    "processedCollection = db['preprocessed']"
   ]
  },
  {
   "cell_type": "code",
   "execution_count": 10,
   "id": "45eefe8b",
   "metadata": {},
   "outputs": [
    {
     "name": "stdout",
     "output_type": "stream",
     "text": [
      "['pairs', 'initial', 'clear', 'preprocessed']\n"
     ]
    }
   ],
   "source": [
    "print(db.list_collection_names())"
   ]
  },
  {
   "cell_type": "code",
   "execution_count": 11,
   "id": "1a9b5477",
   "metadata": {},
   "outputs": [],
   "source": [
    "stop_words = set(stopwords.words('english'))"
   ]
  },
  {
   "cell_type": "code",
   "execution_count": 5,
   "id": "f83b00da",
   "metadata": {},
   "outputs": [],
   "source": [
    "##### There are 2156 bug reports whose description is blank\n",
    "# Check bug_id:99873\n",
    "# Check bug_id:99323"
   ]
  },
  {
   "cell_type": "code",
   "execution_count": 15,
   "id": "e6f78c13",
   "metadata": {},
   "outputs": [
    {
     "ename": "BulkWriteError",
     "evalue": "batch op errors occurred, full error: {'writeErrors': [{'index': 0, 'code': 11000, 'errmsg': \"E11000 duplicate key error collection: eclipse.preprocessed index: _id_ dup key: { : ObjectId('52e9b44754dc1c25ebdb1ee5') }\", 'op': {'_id': ObjectId('52e9b44754dc1c25ebdb1ee5'), 'bug_id': '3', 'product': 'Platform', 'description': 'pr delet indic sync viewer subtl would even true someon vision problem ne good suggest use label compar text viewer may also consid better icon pr file project indic file delet workspac look file workspac empti note appear rightfac arrow sync view sent screen cap ne request clarif arrow clearer arrow present otherwis easi miss distinct especi user attent focuss text compar pane expect workspac file label indic delet repositori file label delet repositori', 'bug_severity': 'normal', 'dup_id': [], 'short_desc': 'sync indic delet', 'priority': 'P5', 'version': '2.0', 'component': 'Team', 'delta_ts': '2010-05-07 10:28:53 -0400', 'bug_status': 'RESOLVED', 'creation_ts': '2001-10-10 21:34:00 -0400', 'resolution': 'FIXED'}}], 'writeConcernErrors': [], 'nInserted': 0, 'nUpserted': 0, 'nMatched': 0, 'nModified': 0, 'nRemoved': 0, 'upserted': []}",
     "output_type": "error",
     "traceback": [
      "\u001b[1;31m---------------------------------------------------------------------------\u001b[0m",
      "\u001b[1;31mBulkWriteError\u001b[0m                            Traceback (most recent call last)",
      "\u001b[1;32mC:\\Users\\KISHOR~1\\AppData\\Local\\Temp/ipykernel_3908/2297401183.py\u001b[0m in \u001b[0;36m<module>\u001b[1;34m\u001b[0m\n\u001b[0;32m    123\u001b[0m \u001b[1;33m\u001b[0m\u001b[0m\n\u001b[0;32m    124\u001b[0m \u001b[1;31m# Inserting the processes documents in the database\u001b[0m\u001b[1;33m\u001b[0m\u001b[1;33m\u001b[0m\u001b[1;33m\u001b[0m\u001b[0m\n\u001b[1;32m--> 125\u001b[1;33m \u001b[0mprocessedCollection\u001b[0m\u001b[1;33m.\u001b[0m\u001b[0minsert_many\u001b[0m\u001b[1;33m(\u001b[0m\u001b[0mdocs\u001b[0m\u001b[1;33m)\u001b[0m\u001b[1;33m\u001b[0m\u001b[1;33m\u001b[0m\u001b[0m\n\u001b[0m",
      "\u001b[1;32m~\\anaconda3\\lib\\site-packages\\pymongo\\collection.py\u001b[0m in \u001b[0;36minsert_many\u001b[1;34m(self, documents, ordered, bypass_document_validation, session)\u001b[0m\n\u001b[0;32m    759\u001b[0m         \u001b[0mblk\u001b[0m \u001b[1;33m=\u001b[0m \u001b[0m_Bulk\u001b[0m\u001b[1;33m(\u001b[0m\u001b[0mself\u001b[0m\u001b[1;33m,\u001b[0m \u001b[0mordered\u001b[0m\u001b[1;33m,\u001b[0m \u001b[0mbypass_document_validation\u001b[0m\u001b[1;33m)\u001b[0m\u001b[1;33m\u001b[0m\u001b[1;33m\u001b[0m\u001b[0m\n\u001b[0;32m    760\u001b[0m         \u001b[0mblk\u001b[0m\u001b[1;33m.\u001b[0m\u001b[0mops\u001b[0m \u001b[1;33m=\u001b[0m \u001b[1;33m[\u001b[0m\u001b[0mdoc\u001b[0m \u001b[1;32mfor\u001b[0m \u001b[0mdoc\u001b[0m \u001b[1;32min\u001b[0m \u001b[0mgen\u001b[0m\u001b[1;33m(\u001b[0m\u001b[1;33m)\u001b[0m\u001b[1;33m]\u001b[0m\u001b[1;33m\u001b[0m\u001b[1;33m\u001b[0m\u001b[0m\n\u001b[1;32m--> 761\u001b[1;33m         \u001b[0mblk\u001b[0m\u001b[1;33m.\u001b[0m\u001b[0mexecute\u001b[0m\u001b[1;33m(\u001b[0m\u001b[0mwrite_concern\u001b[0m\u001b[1;33m,\u001b[0m \u001b[0msession\u001b[0m\u001b[1;33m=\u001b[0m\u001b[0msession\u001b[0m\u001b[1;33m)\u001b[0m\u001b[1;33m\u001b[0m\u001b[1;33m\u001b[0m\u001b[0m\n\u001b[0m\u001b[0;32m    762\u001b[0m         \u001b[1;32mreturn\u001b[0m \u001b[0mInsertManyResult\u001b[0m\u001b[1;33m(\u001b[0m\u001b[0minserted_ids\u001b[0m\u001b[1;33m,\u001b[0m \u001b[0mwrite_concern\u001b[0m\u001b[1;33m.\u001b[0m\u001b[0macknowledged\u001b[0m\u001b[1;33m)\u001b[0m\u001b[1;33m\u001b[0m\u001b[1;33m\u001b[0m\u001b[0m\n\u001b[0;32m    763\u001b[0m \u001b[1;33m\u001b[0m\u001b[0m\n",
      "\u001b[1;32m~\\anaconda3\\lib\\site-packages\\pymongo\\bulk.py\u001b[0m in \u001b[0;36mexecute\u001b[1;34m(self, write_concern, session)\u001b[0m\n\u001b[0;32m    526\u001b[0m                 \u001b[0mself\u001b[0m\u001b[1;33m.\u001b[0m\u001b[0mexecute_no_results\u001b[0m\u001b[1;33m(\u001b[0m\u001b[0msock_info\u001b[0m\u001b[1;33m,\u001b[0m \u001b[0mgenerator\u001b[0m\u001b[1;33m)\u001b[0m\u001b[1;33m\u001b[0m\u001b[1;33m\u001b[0m\u001b[0m\n\u001b[0;32m    527\u001b[0m         \u001b[1;32melse\u001b[0m\u001b[1;33m:\u001b[0m\u001b[1;33m\u001b[0m\u001b[1;33m\u001b[0m\u001b[0m\n\u001b[1;32m--> 528\u001b[1;33m             \u001b[1;32mreturn\u001b[0m \u001b[0mself\u001b[0m\u001b[1;33m.\u001b[0m\u001b[0mexecute_command\u001b[0m\u001b[1;33m(\u001b[0m\u001b[0mgenerator\u001b[0m\u001b[1;33m,\u001b[0m \u001b[0mwrite_concern\u001b[0m\u001b[1;33m,\u001b[0m \u001b[0msession\u001b[0m\u001b[1;33m)\u001b[0m\u001b[1;33m\u001b[0m\u001b[1;33m\u001b[0m\u001b[0m\n\u001b[0m\u001b[0;32m    529\u001b[0m \u001b[1;33m\u001b[0m\u001b[0m\n\u001b[0;32m    530\u001b[0m \u001b[1;33m\u001b[0m\u001b[0m\n",
      "\u001b[1;32m~\\anaconda3\\lib\\site-packages\\pymongo\\bulk.py\u001b[0m in \u001b[0;36mexecute_command\u001b[1;34m(self, generator, write_concern, session)\u001b[0m\n\u001b[0;32m    361\u001b[0m \u001b[1;33m\u001b[0m\u001b[0m\n\u001b[0;32m    362\u001b[0m         \u001b[1;32mif\u001b[0m \u001b[0mfull_result\u001b[0m\u001b[1;33m[\u001b[0m\u001b[1;34m\"writeErrors\"\u001b[0m\u001b[1;33m]\u001b[0m \u001b[1;32mor\u001b[0m \u001b[0mfull_result\u001b[0m\u001b[1;33m[\u001b[0m\u001b[1;34m\"writeConcernErrors\"\u001b[0m\u001b[1;33m]\u001b[0m\u001b[1;33m:\u001b[0m\u001b[1;33m\u001b[0m\u001b[1;33m\u001b[0m\u001b[0m\n\u001b[1;32m--> 363\u001b[1;33m             \u001b[0m_raise_bulk_write_error\u001b[0m\u001b[1;33m(\u001b[0m\u001b[0mfull_result\u001b[0m\u001b[1;33m)\u001b[0m\u001b[1;33m\u001b[0m\u001b[1;33m\u001b[0m\u001b[0m\n\u001b[0m\u001b[0;32m    364\u001b[0m         \u001b[1;32mreturn\u001b[0m \u001b[0mfull_result\u001b[0m\u001b[1;33m\u001b[0m\u001b[1;33m\u001b[0m\u001b[0m\n\u001b[0;32m    365\u001b[0m \u001b[1;33m\u001b[0m\u001b[0m\n",
      "\u001b[1;32m~\\anaconda3\\lib\\site-packages\\pymongo\\bulk.py\u001b[0m in \u001b[0;36m_raise_bulk_write_error\u001b[1;34m(full_result)\u001b[0m\n\u001b[0;32m    138\u001b[0m         full_result[\"writeErrors\"].sort(\n\u001b[0;32m    139\u001b[0m             key=lambda error: error[\"index\"])\n\u001b[1;32m--> 140\u001b[1;33m     \u001b[1;32mraise\u001b[0m \u001b[0mBulkWriteError\u001b[0m\u001b[1;33m(\u001b[0m\u001b[0mfull_result\u001b[0m\u001b[1;33m)\u001b[0m\u001b[1;33m\u001b[0m\u001b[1;33m\u001b[0m\u001b[0m\n\u001b[0m\u001b[0;32m    141\u001b[0m \u001b[1;33m\u001b[0m\u001b[0m\n\u001b[0;32m    142\u001b[0m \u001b[1;33m\u001b[0m\u001b[0m\n",
      "\u001b[1;31mBulkWriteError\u001b[0m: batch op errors occurred, full error: {'writeErrors': [{'index': 0, 'code': 11000, 'errmsg': \"E11000 duplicate key error collection: eclipse.preprocessed index: _id_ dup key: { : ObjectId('52e9b44754dc1c25ebdb1ee5') }\", 'op': {'_id': ObjectId('52e9b44754dc1c25ebdb1ee5'), 'bug_id': '3', 'product': 'Platform', 'description': 'pr delet indic sync viewer subtl would even true someon vision problem ne good suggest use label compar text viewer may also consid better icon pr file project indic file delet workspac look file workspac empti note appear rightfac arrow sync view sent screen cap ne request clarif arrow clearer arrow present otherwis easi miss distinct especi user attent focuss text compar pane expect workspac file label indic delet repositori file label delet repositori', 'bug_severity': 'normal', 'dup_id': [], 'short_desc': 'sync indic delet', 'priority': 'P5', 'version': '2.0', 'component': 'Team', 'delta_ts': '2010-05-07 10:28:53 -0400', 'bug_status': 'RESOLVED', 'creation_ts': '2001-10-10 21:34:00 -0400', 'resolution': 'FIXED'}}], 'writeConcernErrors': [], 'nInserted': 0, 'nUpserted': 0, 'nMatched': 0, 'nModified': 0, 'nRemoved': 0, 'upserted': []}"
     ]
    }
   ],
   "source": [
    "errors = []\n",
    "docs = []\n",
    "lemmatizer = WordNetLemmatizer()\n",
    "snow_stemmer = SnowballStemmer(language='english')\n",
    "for document in collection.find():\n",
    "    doc = document.copy()\n",
    "    for desc in ['description','short_desc']:\n",
    "        try:\n",
    "            # To remove timestamp and date\n",
    "            doc[desc] = re.sub(r\"(([A-Z]{2})* [\\([0-9]+\\/[0-9]+\\/[0-9]+ [0-9]+:[0-9]{2}:[0-9]{2} (AM|PM)\\))\",'',doc[desc])\n",
    "            \n",
    "            # To remove XML code\n",
    "            doc[desc] = re.sub(r\"(\\<\\?xml[a-zA-Z0-9\\.\\s\\=\\?\\\"\\-\\>\\\\n\\<\\:\\/\\_]*(\\<\\/)[a-zA-Z0-9\\:\\_]*\\>)\",'',doc[desc])\n",
    "            \n",
    "            \n",
    "            # To remove any hyperlinks\n",
    "            doc[desc] = re.sub(r\"(http|https):(\\/{2})(www\\.)([a-zA-z0-9]*\\.([a-z]*)(\\.)*)\",'',doc[desc])\n",
    "            doc[desc] = re.sub(r\"(http|https):(\\/{2}[a-zA-Z0-9\\.\\-\\/\\\\n\\:]*)\",'',doc[desc])\n",
    "            \n",
    "            \n",
    "            # To remove error string like in bug_id:99873\n",
    "            # (e.g-line: 62\\n\\tServerTypeDefinitionUtil.getServerClassPathEntry)\n",
    "            doc[desc] = re.sub(r\"(line\\:\\s[0-9]*([\\\\n\\\\t])*([a-zA-Z0-9\\(\\)\\$\\[\\]\\\\n\\\\t\\s]*\\.[a-zA-Z0-9\\(\\)\\,\\\\n\\[\\]\\s\\$\\_]*\\))*)\",\n",
    "                               '',doc[desc])\n",
    "            \n",
    "            # To remove the org. from error eg(org.eclipse.ui.internal.Workbench.createAndRunWorkbench(Workbench.java:366))\n",
    "            doc[desc] = re.sub(r\"((\\()*(org|sun|java|junit|e.g)\\.[a-zA-Z0-9\\.\\$\\(\\:\\s\\-\\,\\_\\\\]*(\\)+|))\",'',doc[desc])\n",
    "            \n",
    "            # To remove strings like /usr/lib/libthread.so.1  (bug_id:33431)\n",
    "            doc[desc] = re.sub(r\"((\\/opt|\\/usr)\\/[a-zA-Z0-9\\/\\.\\_\\,\\-]*)\",'',doc[desc])\n",
    "            \n",
    "            # To remove hexadecimal numbers (bug_id:33431)\n",
    "            doc[desc] = re.sub(r\"(0[xX][a-fA-F0-9]+)\",'',doc[desc])\n",
    "            \n",
    "            # To remove cpp,c,java code\n",
    "            doc[desc] = re.sub(r\"((\\()*[a-zA-Z]+\\.(cpp|java)[a-zA-Z0-9\\:\\\\n\\#\\s\\<\\>\\;\\(\\,\\*\\)\\{\\\"\\/\\+\\.\\-\\_\\\\n\\=]*(\\})*)\",\n",
    "                               '',doc[desc])\n",
    "            \n",
    "            # To remove text between {}\n",
    "            doc[desc] = re.sub(r\"(\\{[a-zA-Z0-9\\s\\(\\)\\\\n\\\\t\\{\\:\\<\\-\\>\\=\\'\\[\\]\\\"\\|\\*\\.\\;\\,\\?]+\\})\",'',doc[desc])\n",
    "            \n",
    "            # To remove testcase(check bug report no:99844)\n",
    "            doc[desc] = re.sub(r\"(Testcase\\:.*\\})\",'',doc[desc])\n",
    "            \n",
    "            # To remove all text within () or [] or <>\n",
    "            doc[desc] = re.sub(r\"(\\([a-zA-Z0-9\\s\\+\\*\\.\\,\\<\\-\\>\\?\\\\n\\-\\'\\_\\/\\$\\[\\]\\(\\\"\\:\\#\\;]*\\)+|(\\[[a-zA-Z0-9\\s\\:]*\\])|(\\<[a-zA-Z0-9\\_\\.\\s\\:\\<\\,]*\\>+))\",\n",
    "                               '',doc[desc])\n",
    "\n",
    "            # To remove alphanumeric string like 1GE8YMJ:\n",
    "            doc[desc] = re.sub(r\"([0-9][a-zA-Z0-9]{6}(\\:)*)\",'',doc[desc])\n",
    "\n",
    "            # To remove string starting with CVS/\n",
    "            doc[desc] = re.sub(r\"(CVS\\/[a-zA-Z]{1,15})\",'',doc[desc])\n",
    "\n",
    "            # Remove string '....'\n",
    "            doc[desc] = re.sub(r\"\\.{2,5}\",' ',doc[desc])\n",
    "\n",
    "            # To remove file name 'org.eclipse.gmt.am3.usecase.osgipluginmanagement.zip'\n",
    "            doc[desc] = re.sub(r\"(org\\.[a-zA-Z0-9\\.\\$\\=\\_\\(\\:\\s]*(zip|gz|tar))\",'',doc[desc])\n",
    "\n",
    "            # To remove strings like 'Authors: Mathieu Vénisse & Guillaume Doux'\n",
    "            doc[desc] = re.sub(r\"(Authors\\:[\\sA-Za-z\\u00C0-\\u00ff\\&]+)\",'',doc[desc])\n",
    "\n",
    "            # To remove string 'Best regards'\n",
    "            doc[desc] = re.sub(r\"(Best regards\\,.+\\.)\",'',doc[desc])\n",
    "            \n",
    "            # To remove strings like OS=linux, ARCH=x86\n",
    "            doc[desc] = re.sub(r\"([A-Z\\.]*(\\=)+[a-zA-Z0-9\\s\\.\\_]*)\",'',doc[desc])\n",
    "            \n",
    "            # To remove strings like (- v, - y)\n",
    "            doc[desc] = re.sub(r\"(\\-(\\s)*[a-zA-Z]+)\",'',doc[desc])\n",
    "\n",
    "            # To remove other special chacters\n",
    "            doc[desc] = re.sub(r\"[\\-\\'\\:\\?\\/\\[\\]\\\"\\$\\>\\<\\,\\!\\+\\#\\*\\_\\|\\;\\}\\{]\",' ',doc[desc])\n",
    "\n",
    "#             #To remove numbers like (4.0)\n",
    "#             doc[desc] = re.sub(r\"([A-Z]*[0-9](\\s)*[0-9]*)\",'',doc[desc])\n",
    "\n",
    "            # To remove string like (STACK 0) (bug_id: 88623)\n",
    "            doc[desc] = re.sub(r\"([A-Z]+\\s[0-9]+)\",'',doc[desc])\n",
    "        \n",
    "            # To remove unwanted 2-3 digit numbers\n",
    "            doc[desc] = re.sub(r\"([0-9]([0-9])+)\",'',doc[desc])\n",
    "            \n",
    "            # To remove all spaces greater than 2\n",
    "            doc[desc] = re.sub(r\"((\\s){2,}|\\.)\",' ',doc[desc])\n",
    "\n",
    "            # Tokenization is carried out on the string\n",
    "            word_tokens = wordpunct_tokenize(doc[desc])\n",
    "\n",
    "            # Stores list of words after removing stop words\n",
    "            wordsFiltered = []\n",
    "\n",
    "            for word in word_tokens:\n",
    "                if word.lower() not in stop_words:\n",
    "                    wordsFiltered.append(word)\n",
    "            \n",
    "            \n",
    "            \"\"\"SnowStemming\"\"\"\n",
    "            stem_words = []\n",
    "            for word in wordsFiltered:\n",
    "                stem_words.append(snow_stemmer.stem(word))\n",
    "            \n",
    "            \"\"\" Lemmatization:\n",
    "                Considered using lemmatization instead of snowball stemming\n",
    "                Stemming does not consider how the words are being used.\n",
    "            \"\"\"\n",
    "#             lemmatizedWords = []\n",
    "#             for word in wordsFiltered:\n",
    "#                 lemmatizedWords.append(lemmatizer.lemmatize(word))\n",
    "\n",
    "            doc[desc] = ' '.join(stem_words)\n",
    "\n",
    "        except TypeError:\n",
    "            # 2156 bug reports with no description\n",
    "            if(len(doc[desc]) == 0):\n",
    "                continue\n",
    "            else:\n",
    "                errors.append(doc['bug_id'])\n",
    "        except DuplicateKeyError:\n",
    "            continue\n",
    "    # Append all doc in docs list\n",
    "    docs.append(doc)\n",
    "\n",
    "# Inserting the processes documents in the database\n",
    "processedCollection.insert_many(docs)"
   ]
  },
  {
   "cell_type": "code",
   "execution_count": 21,
   "id": "715696fd",
   "metadata": {},
   "outputs": [
    {
     "name": "stdout",
     "output_type": "stream",
     "text": [
      "[]\n"
     ]
    }
   ],
   "source": [
    "print(errors)"
   ]
  },
  {
   "cell_type": "code",
   "execution_count": 12,
   "id": "d4ecd74c",
   "metadata": {},
   "outputs": [
    {
     "data": {
      "text/plain": [
       "{'_id': ObjectId('52e9c46e54dc1c25ebdc441c'),\n",
       " 'bug_id': '76219',\n",
       " 'product': 'JDT',\n",
       " 'description': 'System 3 1M2 0 code exhibit inconsistant behavior Sun Eclipse compiler interface AA abstract class BB implement AA Note formal type parameter Z AA bounded recursively AA corresponding type argument declared type formal parameter wht method implementation wildcard bound understanding unbounded wildcards implicit bound Object case mean body expression wht z assumed Object method b Eclipse compiler seems reject code reason Bound mismatch type valid substitute bounded parameter type AA hand validly constructed actual parameter wht type AA U would certainly constructed respecting bound Z Perhaps Sun JDK javac accepts code without error know correct behavior posting bug JDK Eclipse bug page',\n",
       " 'bug_severity': 'normal',\n",
       " 'dup_id': [],\n",
       " 'short_desc': '1 5 wildcards method formal parameter type',\n",
       " 'priority': 'P3',\n",
       " 'version': '3.1',\n",
       " 'component': 'Core',\n",
       " 'delta_ts': '2004-11-04 11:42:30 -0500',\n",
       " 'bug_status': 'VERIFIED',\n",
       " 'creation_ts': '2004-10-13 19:55:00 -0400',\n",
       " 'resolution': 'FIXED'}"
      ]
     },
     "execution_count": 12,
     "metadata": {},
     "output_type": "execute_result"
    }
   ],
   "source": [
    "doc = processedCollection.find_one({\"bug_id\":\"76219\"})\n",
    "doc"
   ]
  },
  {
   "cell_type": "code",
   "execution_count": null,
   "id": "96a6cc67",
   "metadata": {},
   "outputs": [],
   "source": []
  }
 ],
 "metadata": {
  "kernelspec": {
   "display_name": "Python 3 (ipykernel)",
   "language": "python",
   "name": "python3"
  },
  "language_info": {
   "codemirror_mode": {
    "name": "ipython",
    "version": 3
   },
   "file_extension": ".py",
   "mimetype": "text/x-python",
   "name": "python",
   "nbconvert_exporter": "python",
   "pygments_lexer": "ipython3",
   "version": "3.7.9"
  }
 },
 "nbformat": 4,
 "nbformat_minor": 5
}
