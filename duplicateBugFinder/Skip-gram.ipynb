{
 "cells": [
  {
   "cell_type": "code",
   "execution_count": 1,
   "id": "a05d8882",
   "metadata": {},
   "outputs": [
    {
     "name": "stderr",
     "output_type": "stream",
     "text": [
      "C:\\Users\\Kishor Satpute\\anaconda3\\lib\\site-packages\\gensim\\similarities\\__init__.py:15: UserWarning: The gensim.similarities.levenshtein submodule is disabled, because the optional Levenshtein package <https://pypi.org/project/python-Levenshtein/> is unavailable. Install Levenhstein (e.g. `pip install python-Levenshtein`) to suppress this warning.\n",
      "  warnings.warn(msg)\n"
     ]
    }
   ],
   "source": [
    "import os\n",
    "import ast\n",
    "import json\n",
    "import numpy as np\n",
    "from pymongo import MongoClient\n",
    "from gensim.models import Word2Vec\n",
    "from sklearn.metrics.pairwise import cosine_similarity\n",
    "from processing import cleaning,tokenize,removeStopwords\n",
    "\n",
    "import warnings\n",
    "warnings.filterwarnings('ignore')"
   ]
  },
  {
   "cell_type": "code",
   "execution_count": 2,
   "id": "2128b5cc",
   "metadata": {},
   "outputs": [],
   "source": [
    "def processDocument(document):\n",
    "    \n",
    "    contentofInterest = document['description'] + document['short_desc']  # COI\n",
    "    \n",
    "    cleanedCOI = cleaning(contentofInterest)\n",
    "    tokenized_COI = tokenize(cleanedCOI)\n",
    "    COI_without_sw = removeStopwords(tokenized_COI)\n",
    "    \n",
    "    return COI_without_sw"
   ]
  },
  {
   "cell_type": "code",
   "execution_count": 3,
   "id": "4fe91866",
   "metadata": {},
   "outputs": [],
   "source": [
    "# To generate a single vector for a document by combining vectors of the words of the document\n",
    "def mean_vector(model,wordsTokens:list):\n",
    "    if len(wordsTokens) > 0:\n",
    "        return np.mean(model.wv[wordsTokens],axis = 0)"
   ]
  },
  {
   "cell_type": "code",
   "execution_count": 4,
   "id": "f931ad3a",
   "metadata": {},
   "outputs": [],
   "source": [
    "client = MongoClient('localhost',27017)\n",
    "db = client['eclipse']\n",
    "collection = db['initial']"
   ]
  },
  {
   "cell_type": "code",
   "execution_count": 5,
   "id": "6fb5a097",
   "metadata": {},
   "outputs": [
    {
     "name": "stdout",
     "output_type": "stream",
     "text": [
      "4\n"
     ]
    }
   ],
   "source": [
    "CPU_COUNT = os.cpu_count()\n",
    "print(CPU_COUNT)"
   ]
  },
  {
   "cell_type": "code",
   "execution_count": 11,
   "id": "ffe8130b",
   "metadata": {},
   "outputs": [],
   "source": [
    "with open('sentences1.txt','r') as file:\n",
    "    check_corpus = file.readlines()"
   ]
  },
  {
   "cell_type": "code",
   "execution_count": 12,
   "id": "43f330b3",
   "metadata": {},
   "outputs": [
    {
     "data": {
      "text/plain": [
       "13000"
      ]
     },
     "execution_count": 12,
     "metadata": {},
     "output_type": "execute_result"
    }
   ],
   "source": [
    "len(check_corpus)"
   ]
  },
  {
   "cell_type": "code",
   "execution_count": 43,
   "id": "f30b7020",
   "metadata": {},
   "outputs": [],
   "source": [
    "# To convert string dictornary to Python dictionary\n",
    "corpus = []\n",
    "for i in range(len(check_corpus)):\n",
    "    doc = check_corpus[i].strip()\n",
    "    doc = ast.literal_eval(doc)\n",
    "    corpus.append(list(doc.values())[0])"
   ]
  },
  {
   "cell_type": "markdown",
   "id": "d2656b98",
   "metadata": {},
   "source": [
    "## Skip gram model"
   ]
  },
  {
   "cell_type": "code",
   "execution_count": 45,
   "id": "cd00d521",
   "metadata": {},
   "outputs": [],
   "source": [
    "model = Word2Vec(sentences = corpus,\n",
    "                 window = 20,\n",
    "                 min_count = 1,\n",
    "                 sg = 1,\n",
    "                 sorted_vocab = 1,\n",
    "                 workers = CPU_COUNT)"
   ]
  },
  {
   "cell_type": "code",
   "execution_count": 46,
   "id": "39313589",
   "metadata": {},
   "outputs": [
    {
     "name": "stderr",
     "output_type": "stream",
     "text": [
      "WARNING:gensim.models.word2vec:Effective 'alpha' higher than previous training cycles\n"
     ]
    },
    {
     "data": {
      "text/plain": [
       "(91968742, 100932020)"
      ]
     },
     "execution_count": 46,
     "metadata": {},
     "output_type": "execute_result"
    }
   ],
   "source": [
    "model.train(corpus_iterable = corpus,\n",
    "            total_words = model.corpus_total_words,\n",
    "            total_examples = len(corpus),\n",
    "            start_alpha = 0.025,\n",
    "            epochs = 140)"
   ]
  },
  {
   "cell_type": "code",
   "execution_count": 47,
   "id": "38dafb70",
   "metadata": {},
   "outputs": [],
   "source": [
    "# Saved the skip-gram model\n",
    "model.save('./trained_sg.model')"
   ]
  },
  {
   "cell_type": "code",
   "execution_count": 51,
   "id": "d6d9491a",
   "metadata": {},
   "outputs": [],
   "source": [
    "bug_doc1 = collection.find_one({'bug_id':'20'})\n",
    "bug1 = processDocument(bug_doc1)"
   ]
  },
  {
   "cell_type": "code",
   "execution_count": 52,
   "id": "578181ea",
   "metadata": {},
   "outputs": [],
   "source": [
    "bug_doc2 = collection.find_one({'bug_id':'40'})\n",
    "bug2 = processDocument(bug_doc2)"
   ]
  },
  {
   "cell_type": "code",
   "execution_count": 59,
   "id": "69c3b85a",
   "metadata": {},
   "outputs": [
    {
     "name": "stdout",
     "output_type": "stream",
     "text": [
      "Word Tokens: ['thought', 'would', 'useful', 'set', 'repo', 'connections', 'could', 'stored', 'somewhere', 'external', 'file', 'system', 'instead', 'everyone', 'list', 'cashed', 'workspace', 'thus', 'get', 'new', 'workspace', 'dont', 'need', 'reconstruct', 'information', 'configure', 'workspace', 'point', 'list', 'also', 'means', 'team', 'could', 'share', 'set', 'repo', 'connections', 'pointing', 'file', 'workspace', 'files']\n",
      "Word Tokens: ['i', 'would', 'like', 'able', 'connect', 'team', 'stream', 'directly', 'add', 'content', 'workspace', 'this', 'could', 'added', 'new', 'repository', 'wizard', 'currently', 'i', 'need', 'least', 'steps', 'populate', 'new', 'workspace', 'team', 'stream', 'add', 'repository', 'open', 'repository', 'browser', 'expand', 'head', 'select', 'children', 'head', 'add', 'workspace', 'moving', 'future', 'at', 'least', 'team', 'stream', 'cannot', 'used', 'container', 'projects', 'operation', 'would', 'meaningful', 'repository', 'add', 'workspace', 'frequent', 'operation', 'i', 'dont', 'think', 'steps', 'bad', 'need', 'connect', 'team', 'stream']\n"
     ]
    }
   ],
   "source": [
    "vector1 = mean_vector(model,bug1)\n",
    "vector2 = mean_vector(model,bug2)"
   ]
  },
  {
   "cell_type": "code",
   "execution_count": 54,
   "id": "0968316e",
   "metadata": {},
   "outputs": [
    {
     "data": {
      "text/plain": [
       "array([[0.871929]], dtype=float32)"
      ]
     },
     "execution_count": 54,
     "metadata": {},
     "output_type": "execute_result"
    }
   ],
   "source": [
    "cosine_similarity([vector1],[vector2])"
   ]
  },
  {
   "cell_type": "code",
   "execution_count": null,
   "id": "678941a0",
   "metadata": {},
   "outputs": [],
   "source": []
  }
 ],
 "metadata": {
  "kernelspec": {
   "display_name": "Python 3 (ipykernel)",
   "language": "python",
   "name": "python3"
  },
  "language_info": {
   "codemirror_mode": {
    "name": "ipython",
    "version": 3
   },
   "file_extension": ".py",
   "mimetype": "text/x-python",
   "name": "python",
   "nbconvert_exporter": "python",
   "pygments_lexer": "ipython3",
   "version": "3.8.12"
  }
 },
 "nbformat": 4,
 "nbformat_minor": 5
}
