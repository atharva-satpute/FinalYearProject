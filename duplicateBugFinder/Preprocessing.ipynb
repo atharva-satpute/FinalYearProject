{
 "cells": [
  {
   "cell_type": "markdown",
   "id": "58705c2a",
   "metadata": {},
   "source": [
    "## Importing Libraries"
   ]
  },
  {
   "cell_type": "code",
   "execution_count": 1,
   "id": "a67f7921",
   "metadata": {},
   "outputs": [],
   "source": [
    "# NLP\n",
    "import nltk"
   ]
  },
  {
   "cell_type": "code",
   "execution_count": 2,
   "id": "0078ae97",
   "metadata": {},
   "outputs": [],
   "source": [
    "# General Libraries\n",
    "import re\n",
    "# NLP\n",
    "from nltk.stem import WordNetLemmatizer\n",
    "from nltk.stem.snowball import SnowballStemmer\n",
    "from nltk.corpus import stopwords\n",
    "from nltk.tokenize import wordpunct_tokenize,word_tokenize\n",
    "# Pymongo\n",
    "from pymongo import MongoClient\n",
    "from pymongo.errors import DuplicateKeyError"
   ]
  },
  {
   "cell_type": "code",
   "execution_count": 3,
   "id": "e06c733c",
   "metadata": {},
   "outputs": [
    {
     "name": "stderr",
     "output_type": "stream",
     "text": [
      "[nltk_data] Downloading package stopwords to C:\\Users\\Kishor\n",
      "[nltk_data]     Satpute\\AppData\\Roaming\\nltk_data...\n",
      "[nltk_data]   Package stopwords is already up-to-date!\n",
      "[nltk_data] Downloading package wordnet to C:\\Users\\Kishor\n",
      "[nltk_data]     Satpute\\AppData\\Roaming\\nltk_data...\n",
      "[nltk_data]   Package wordnet is already up-to-date!\n"
     ]
    }
   ],
   "source": [
    "# Check if corpus of stopwords and wordnet exists\n",
    "try:\n",
    "    nltk.find('stopwords')\n",
    "    nltk.find('wordnet')\n",
    "except LookupError:\n",
    "    nltk.download('stopwords')\n",
    "    nltk.download('wordnet')"
   ]
  },
  {
   "cell_type": "code",
   "execution_count": 4,
   "id": "555eb563",
   "metadata": {},
   "outputs": [],
   "source": [
    "client = MongoClient('localhost',27017)\n",
    "db = client['eclipse']\n",
    "collection = db['initial']\n",
    "\n",
    "# Created new collection to store processed documents\n",
    "processedCollection = db['preprocessed']"
   ]
  },
  {
   "cell_type": "code",
   "execution_count": 5,
   "id": "45eefe8b",
   "metadata": {},
   "outputs": [
    {
     "name": "stdout",
     "output_type": "stream",
     "text": [
      "['pairs', 'initial', 'clear']\n"
     ]
    }
   ],
   "source": [
    "print(db.list_collection_names())"
   ]
  },
  {
   "cell_type": "code",
   "execution_count": 7,
   "id": "1a9b5477",
   "metadata": {},
   "outputs": [],
   "source": [
    "stop_words = set(stopwords.words('english'))"
   ]
  },
  {
   "cell_type": "code",
   "execution_count": 8,
   "id": "f83b00da",
   "metadata": {},
   "outputs": [],
   "source": [
    "##### There are 2156 bug reports whose description is blank\n",
    "# Check bug_id:99873\n",
    "# Check bug_id:99323"
   ]
  },
  {
   "cell_type": "code",
   "execution_count": 13,
   "id": "e6f78c13",
   "metadata": {},
   "outputs": [
    {
     "data": {
      "text/plain": [
       "<pymongo.results.InsertManyResult at 0x360e55540>"
      ]
     },
     "execution_count": 13,
     "metadata": {},
     "output_type": "execute_result"
    }
   ],
   "source": [
    "errors = []\n",
    "docs = []\n",
    "lemmatizer = WordNetLemmatizer()\n",
    "snow_stemmer = SnowballStemmer(language='english')\n",
    "for document in collection.find():\n",
    "    doc = document.copy()\n",
    "    for desc in ['description','short_desc']:\n",
    "        try:\n",
    "            # To remove timestamp and date\n",
    "            doc[desc] = re.sub(r\"(([A-Z]{2})* [\\([0-9]+\\/[0-9]+\\/[0-9]+ [0-9]+:[0-9]{2}:[0-9]{2} (AM|PM)\\))\",'',doc[desc])\n",
    "            \n",
    "            # To remove XML code\n",
    "            doc[desc] = re.sub(r\"(\\<\\?xml[a-zA-Z0-9\\.\\s\\=\\?\\\"\\-\\>\\\\n\\<\\:\\/\\_]*(\\<\\/)[a-zA-Z0-9\\:\\_]*\\>)\",'',doc[desc])\n",
    "            \n",
    "            \n",
    "            # To remove any hyperlinks\n",
    "            doc[desc] = re.sub(r\"(http|https):(\\/{2})(www\\.)([a-zA-z0-9]*\\.([a-z]*)(\\.)*)\",'',doc[desc])\n",
    "            doc[desc] = re.sub(r\"(http|https):(\\/{2}[a-zA-Z0-9\\.\\-\\/\\\\n\\:]*)\",'',doc[desc])\n",
    "            \n",
    "            \n",
    "            # To remove error string like in bug_id:99873\n",
    "            # (e.g-line: 62\\n\\tServerTypeDefinitionUtil.getServerClassPathEntry)\n",
    "            doc[desc] = re.sub(r\"(line\\:\\s[0-9]*([\\\\n\\\\t])*([a-zA-Z0-9\\(\\)\\$\\[\\]\\\\n\\\\t\\s]*\\.[a-zA-Z0-9\\(\\)\\,\\\\n\\[\\]\\s\\$\\_]*\\))*)\",\n",
    "                               '',doc[desc])\n",
    "            \n",
    "            # To remove the org. from error eg.(org.eclipse.ui.internal.Workbench.createAndRunWorkbench(Workbench.java:366))\n",
    "            doc[desc] = re.sub(r\"((\\()*(org|sun|java|junit|e.g)\\.[a-zA-Z0-9\\.\\$\\(\\:\\s\\-\\,\\_\\\\]*(\\)+|))\",'',doc[desc])\n",
    "            \n",
    "            # To remove strings like /usr/lib/libthread.so.1  (bug_id:33431)\n",
    "            doc[desc] = re.sub(r\"((\\/opt|\\/usr)\\/[a-zA-Z0-9\\/\\.\\_\\,\\-]*)\",'',doc[desc])\n",
    "            \n",
    "            # To remove hexadecimal numbers (bug_id:33431)\n",
    "            doc[desc] = re.sub(r\"(0[xX][a-fA-F0-9]+)\",'',doc[desc])\n",
    "            \n",
    "            # To remove cpp,c,java code\n",
    "            doc[desc] = re.sub(r\"((\\()*[a-zA-Z]+\\.(cpp|java)[a-zA-Z0-9\\:\\\\n\\#\\s\\<\\>\\;\\(\\,\\*\\)\\{\\\"\\/\\+\\.\\-\\_\\\\n\\=]*(\\})*)\",\n",
    "                               '',doc[desc])\n",
    "            \n",
    "            # To remove text between {}\n",
    "            doc[desc] = re.sub(r\"(\\{[a-zA-Z0-9\\s\\(\\)\\\\n\\\\t\\{\\:\\<\\-\\>\\=\\'\\[\\]\\\"\\|\\*\\.\\;\\,\\?]+\\})\",'',doc[desc])\n",
    "            \n",
    "            # To remove testcase(check bug report no:99844)\n",
    "            doc[desc] = re.sub(r\"(Testcase\\:.*\\})\",'',doc[desc])\n",
    "            \n",
    "            # To remove all text within () or [] or <>\n",
    "            doc[desc] = re.sub(r\"(\\([a-zA-Z0-9\\s\\+\\*\\.\\,\\<\\-\\>\\?\\\\n\\-\\'\\_\\/\\$\\[\\]\\(\\\"\\:\\#\\;\\%\\!]*\\)+|(\\[[a-zA-Z0-9\\s\\:]*\\])|(\\<[a-zA-Z0-9\\_\\.\\s\\:\\<\\,]*\\>+))\",\n",
    "                               '',doc[desc])\n",
    "\n",
    "            # To remove alphanumeric string like 1GE8YMJ:\n",
    "            doc[desc] = re.sub(r\"([0-9][a-zA-Z0-9]{6}(\\:)*)\",'',doc[desc])\n",
    "\n",
    "            # To remove string starting with CVS/\n",
    "            doc[desc] = re.sub(r\"(CVS(\\/)*([a-zA-Z]{1,15}\\.[a-zA-Z]*)*)\",'',doc[desc])\n",
    "\n",
    "            # Remove string '....'\n",
    "            doc[desc] = re.sub(r\"\\.{2,5}\",' ',doc[desc])\n",
    "\n",
    "            # To remove file name 'org.eclipse.gmt.am3.usecase.osgipluginmanagement.zip'\n",
    "            doc[desc] = re.sub(r\"(org\\.[a-zA-Z0-9\\.\\$\\=\\_\\(\\:\\s]*(zip|gz|tar))\",'',doc[desc])\n",
    "\n",
    "            # To remove strings like 'Authors: Mathieu Vénisse & Guillaume Doux'\n",
    "            doc[desc] = re.sub(r\"(Authors\\:[\\sA-Za-z\\u00C0-\\u00ff\\&]+)\",'',doc[desc])\n",
    "\n",
    "            # To remove string 'Best regards'\n",
    "            doc[desc] = re.sub(r\"(Best regards\\,.+\\.)\",'',doc[desc])\n",
    "            \n",
    "            # To remove strings like OS=linux, ARCH=x86\n",
    "            doc[desc] = re.sub(r\"([A-Z\\.]*(\\=)+[a-zA-Z0-9\\s\\.\\_]*)\",'',doc[desc])\n",
    "            \n",
    "            # To remove strings like (- v, - y)\n",
    "            doc[desc] = re.sub(r\"(\\-(\\s)+[a-zA-Z]+)\",'',doc[desc])\n",
    "            \n",
    "            # To remove string like ITPVCM:WINNT\n",
    "            doc[desc] = re.sub(r\"([a-zA-Z]+:[a-zA-Z]+)\",'',doc[desc])\n",
    "            \n",
    "            # To change words like Don't to Dont\n",
    "            doc[desc] = re.sub(r\"(\\')\",'',doc[desc])\n",
    "\n",
    "            # To remove other special chacters\n",
    "            doc[desc] = re.sub(r\"[\\-\\:\\?\\/\\[\\]\\\"\\$\\>\\<\\,\\!\\+\\#\\*\\_\\|\\;\\}\\{\\%\\.]\",' ',doc[desc])\n",
    "\n",
    "#             #To remove numbers like (4.0)\n",
    "#             doc[desc] = re.sub(r\"([A-Z]*[0-9](\\s)*[0-9]*)\",'',doc[desc])\n",
    "\n",
    "            # To remove string like (STACK 0) (bug_id: 88623)\n",
    "            doc[desc] = re.sub(r\"([A-Z]+\\s[0-9]+)\",'',doc[desc])\n",
    "        \n",
    "            # To remove unwanted 2-3.$$$ digit numbers\n",
    "            doc[desc] = re.sub(r\"([0-9]([0-9])+\\.*[0-9]*)\",'',doc[desc])\n",
    "            \n",
    "            # To remove all spaces greater than 2\n",
    "            doc[desc] = re.sub(r\"((\\s){2,})\",' ',doc[desc])\n",
    "\n",
    "            # Tokenization is carried out on the string\n",
    "            word_tokens = wordpunct_tokenize(doc[desc])\n",
    "\n",
    "            # Stores list of words after removing stop words\n",
    "            wordsFiltered = []\n",
    "\n",
    "            for word in word_tokens:\n",
    "                if word.lower() not in stop_words:\n",
    "                    wordsFiltered.append(word)\n",
    "            \n",
    "            \n",
    "            \"\"\"SnowStemming\"\"\"\n",
    "            stem_words = []\n",
    "            for word in wordsFiltered:\n",
    "                stem_words.append(snow_stemmer.stem(word))\n",
    "            \n",
    "            \"\"\" Lemmatization:\n",
    "                Considered using lemmatization instead of snowball stemming\n",
    "                Stemming does not consider how the words are being used.\n",
    "            \"\"\"\n",
    "#             lemmatizedWords = []\n",
    "#             for word in wordsFiltered:\n",
    "#                 lemmatizedWords.append(lemmatizer.lemmatize(word))\n",
    "\n",
    "            doc[desc] = ' '.join(stem_words)\n",
    "\n",
    "        except TypeError:\n",
    "            # 2156 bug reports with no description\n",
    "            if(len(doc[desc]) == 0):\n",
    "                continue\n",
    "            else:\n",
    "                errors.append(doc['bug_id'])\n",
    "        except DuplicateKeyError:\n",
    "            continue\n",
    "    # Append all doc in docs list\n",
    "    docs.append(doc)\n",
    "\n",
    "# Inserting the processes documents in the database\n",
    "processedCollection.insert_many(docs)"
   ]
  },
  {
   "cell_type": "code",
   "execution_count": 21,
   "id": "715696fd",
   "metadata": {},
   "outputs": [
    {
     "name": "stdout",
     "output_type": "stream",
     "text": [
      "[]\n"
     ]
    }
   ],
   "source": [
    "print(errors)"
   ]
  },
  {
   "cell_type": "code",
   "execution_count": 14,
   "id": "8feac813",
   "metadata": {},
   "outputs": [
    {
     "data": {
      "text/plain": [
       "{'_id': ObjectId('52e9b44854dc1c25ebdb1efc'),\n",
       " 'bug_id': '24',\n",
       " 'product': 'Platform',\n",
       " 'description': \"Since refresh() is called before the catchup/release view opens, it should be as fast as possible.\\n\\nNOTES:\\n\\nBB (12/04/2001 11:32:05 AM)\\n\\tThe most promising optimization idea is: Don't return an IServerResourceTree from fetchRemoteTree\\n\\tbut instead use a call-back to interleave the server communication with updating the sync info.\\n\\nBB (12/04/2001 11:30:31 AM)\\n\\tSee this PR for other performance tuning opportunities: 1GAT2V2: ITPVCM:WINNT - Releasing very slow\\n\\nMichaelV (19/09/2001 2:14:23 PM)\\n\\n\\tHere are some percentages on a refresh from OTT to Paris with auto-build turned OFF\\n\\n\\t\\tTotal Time: 97776 ms\\n\\n\\t\\t(57026) 58.3% in Subscriber.refresh()\\n\\t\\t\\t(40704) 41.6% CVSAdapter.fetchRemoteTree()\\n\\t\\t\\t(14918) 15.3% Subscriber.recursiveRefresh()\\n\\t\\t(13242) 13.5% in SharingManager.manage() from  org.eclipse.vcm.ui.sync.Repository.autoManage()\\n\\t\\t\\tWhat is autoManage?\\n\\t\\t (12234) 12.5% in org.eclipse.vcm.ui.sync.Repository.collectResourceChanges() (recursive)\\n\\t\\t11% in JavaModelManager.resourceChanged()\\n\\t\\t4.3% in ResourceDeltaFactory.computeDelta()\\n\\n\\tHot-spots are\\n\\t\\t14% socket read\\n\\t\\t13% socket write\\n\\t\\t12% String#substring\\n\\t\\t4.6% String#indexOf\\n\\t\\t3.6% Path#segments\\n\\t\\t3.2% String#compareTo\\n\\t\\t3.2% AccumulatingProgressMonitor#subtask\\n\\t\\t3% Path#append\\n\\t\\t3.2% String#concat\\n\\n\\tAuto manage time (13.5%) seems to be spent determining what is ignored. There seems to be many ways to improve this!\\n\\t\\nMichaelV (20/09/2001 8:51:55 AM)\\n\\n\\tThere seems to be a lot of room for improvement in Subscriber#recursiveRefresh\\n\\tHowever, the general approach used by VCM to determine what changes there are seems to be\\n\\tinherently ineficient.\\n\\n\\tIn CVS clients, the following steps take place on an update\\n\\t1. Client sends information about all loaded files (versions and what has changed locally)\\n\\t2. Server makes one pass through to determine update reponse.\\n\\t3. Client uses response to update only as necessary\\n\\tThis results in 2 to 3 passes through the project\\n\\n\\tIn VCM, the following occurs\\n\\t1. client sends information about known directories\\n\\t2. Server responds with information about new directories and files\\n\\t3. client requests file information (status)\\n\\t4. server responds + client must place file in resulting tree\\n\\t5. resulting tree + local structure traversed to update sync info\\n\\t6. local structure traversed to determine if their are changes\\n\\tMy guess is that this is roughly equivalent to 5 passes\\n\\n\\tConsidering that some projects may be very large, this leads to slow syncing \\n\\twhich takes the same time whether there are changes or not.\\n\\t\\nMichaelV (21/09/2001 2:06:02 PM)\\n\\n\\tI have optimized the recursive refresh itself but this has bought little (13000). The problem is\\n\\tthat we do a get and write of the sync info at each node and this is costly. Furthermore,\\n\\tgetting and setting get slower as the distance from the root increases. This is probably due\\n\\tto the fact that there are lots of files at the leaves. \\n\\n\\tWithin getWorkspaces, getSharing and getProject are the main culprits. Can these be passed in?\\n\\tThe project should be OK but I'm unsure of the sharing. getRepository also does a getProject.\\n\\n\\tI have optimized SharingManager.manage to avoid internalGetSyncInfo and getProject. (from 13000 to 9000)\\n\\tHowever, we should not need a separate traversal to ensure that all non-ignored resources are managed!\\n\\n\\tI have included change collection as part of the refresh. \\n\\t(Much speed improvement!! from 12000 to virtualy 0)\\n\\nMichaelV (24/09/2001 12:49:57 PM)\\n\\t\\n\\tTimings of local sync with auto-manage refresh and collection in same pass.\\n\\n\\t100% = 30290 ms\\n\\t82.73% (25059) in Subscriber.refresh\\n\\t\\t49.95% (15130) in CVSAdapter.fetchRemoteTree\\n\\t\\t27.25% (8257) in Subscriber.refreshChildren\\n\\t\\t5% (1512) in Policy.countResources\\n\\t15.34% (4649) in NotificationManager.getDelta()\\n\\n\\tThis is a savings of over 75% on VCM operations but no improvement in fetchRemoteTree. \\n\\tAlso, getDelta timings result from all the storeSyncInfo calls. One solution is\\n\\tto request only the delta information from the server as the CVS command-line\\n\\tclient does.\\n \\nTest Cases\\n\\n\\tSync for first time\\n\\t- on unshared project\\n\\t- on folder/file of unshared project\\n\\t- on folder/file of shared project\\n\\n\\tSync with outgoing, incomming and both\\n\\n\\tMerges with outgoing, incomming and both\",\n",
       " 'bug_severity': 'normal',\n",
       " 'dup_id': [],\n",
       " 'short_desc': 'Performance of refresh (1GC2TAF)',\n",
       " 'priority': 'P3',\n",
       " 'version': '2.0',\n",
       " 'component': 'Team',\n",
       " 'delta_ts': '2001-10-23 23:39:47 -0400',\n",
       " 'bug_status': 'VERIFIED',\n",
       " 'creation_ts': '2001-10-10 21:35:00 -0400',\n",
       " 'resolution': 'FIXED'}"
      ]
     },
     "execution_count": 14,
     "metadata": {},
     "output_type": "execute_result"
    }
   ],
   "source": [
    "doc = collection.find_one({\"bug_id\":\"24\"})\n",
    "doc"
   ]
  },
  {
   "cell_type": "code",
   "execution_count": 15,
   "id": "d4ecd74c",
   "metadata": {},
   "outputs": [
    {
     "data": {
      "text/plain": [
       "{'_id': ObjectId('52e9b44854dc1c25ebdb1efc'),\n",
       " 'bug_id': '24',\n",
       " 'product': 'Platform',\n",
       " 'description': 'sinc refresh call catchup releas view open fast possibl note promis optim idea dont return iserverresourcetre fetchremotetre instead use call back interleav server communic updat sync info see pr perform tune opportun slow michaelv percentag refresh ott pari auto build turn total time ms 3 subscrib refresh 6 3 subscrib recursiverefresh 5 sharingmanag manag automanag 5 javamodelmanag resourcechang 4 3 resourcedeltafactori computedelta hot spot socket read socket write string substr 4 6 string indexof 3 6 path segment 3 2 string compareto 3 2 accumulatingprogressmonitor subtask 3 path append 3 2 string concat auto manag time seem spent determin ignor seem mani way improv michaelv seem lot room improv subscrib recursiverefresh howev general approach use vcm determin chang seem inher inefici client follow step take place updat 1 client send inform load file 2 server make one pass determin updat repons 3 client use respons updat necessari result 2 3 pass project vcm follow occur 1 client send inform known directori 2 server respond inform new directori file 3 client request file inform 4 server respond client must place file result tree 5 result tree local structur travers updat sync info 6 local structur travers determin chang guess rough equival 5 pass consid project may larg lead slow sync take time whether chang michaelv optim recurs refresh bought littl problem get write sync info node cost furthermor get set get slower distanc root increas probabl due fact lot file leav within getworkspac getshar getproject main culprit pass project ok im unsur share getrepositori also getproject optim sharingmanag manag avoid internalgetsyncinfo getproject howev need separ travers ensur non ignor resourc manag includ chang collect part refresh michaelv time local sync auto manag refresh collect pass subscrib refresh subscrib refreshchildren 5 polici countresourc notificationmanag getdelta save vcm oper improv fetchremotetre also getdelta time result storesyncinfo call one solut request delta inform server command line client test case sync first time unshar project folder file unshar project folder file share project sync outgo incom merg outgo incom',\n",
       " 'bug_severity': 'normal',\n",
       " 'dup_id': [],\n",
       " 'short_desc': 'perform refresh',\n",
       " 'priority': 'P3',\n",
       " 'version': '2.0',\n",
       " 'component': 'Team',\n",
       " 'delta_ts': '2001-10-23 23:39:47 -0400',\n",
       " 'bug_status': 'VERIFIED',\n",
       " 'creation_ts': '2001-10-10 21:35:00 -0400',\n",
       " 'resolution': 'FIXED'}"
      ]
     },
     "execution_count": 15,
     "metadata": {},
     "output_type": "execute_result"
    }
   ],
   "source": [
    "doc = processedCollection.find_one({\"bug_id\":\"24\"})\n",
    "doc"
   ]
  },
  {
   "cell_type": "code",
   "execution_count": null,
   "id": "96a6cc67",
   "metadata": {},
   "outputs": [],
   "source": []
  }
 ],
 "metadata": {
  "kernelspec": {
   "display_name": "Python 3",
   "language": "python",
   "name": "python3"
  },
  "language_info": {
   "codemirror_mode": {
    "name": "ipython",
    "version": 3
   },
   "file_extension": ".py",
   "mimetype": "text/x-python",
   "name": "python",
   "nbconvert_exporter": "python",
   "pygments_lexer": "ipython3",
   "version": "3.8.8"
  }
 },
 "nbformat": 4,
 "nbformat_minor": 5
}
