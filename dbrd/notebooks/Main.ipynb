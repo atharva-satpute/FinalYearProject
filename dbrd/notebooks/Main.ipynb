{
 "cells": [
  {
   "cell_type": "code",
   "execution_count": 29,
   "id": "825c997a",
   "metadata": {},
   "outputs": [],
   "source": [
    "# Pymongo\n",
    "from pymongo import MongoClient\n",
    "#Sklearn\n",
    "from sklearn.metrics.pairwise import cosine_similarity\n",
    "from Scores import score1"
   ]
  },
  {
   "cell_type": "code",
   "execution_count": 7,
   "id": "0848378b",
   "metadata": {},
   "outputs": [],
   "source": [
    "# import sklearn\n",
    "# from sklearn.feature_extraction.text import TfidfVectorizer\n",
    "\n",
    "# def score1(document):\n",
    "#     # Combining title and description as one string\n",
    "#     string = document2['short_desc'] +' ' + document2['description']\n",
    "    \n",
    "#     strings = [string]\n",
    "    \n",
    "#     # Initializing tfid\n",
    "#     tfidf = TfidfVectorizer(stop_words='english')\n",
    "#     result = tfidf.fit_transform(strings)\n",
    "#     return result,tfidf"
   ]
  },
  {
   "cell_type": "code",
   "execution_count": 3,
   "id": "5191eb05",
   "metadata": {},
   "outputs": [],
   "source": [
    "client = MongoClient('localhost',27017)\n",
    "db = client['eclipse']\n",
    "collection = db['initial']\n",
    "\n",
    "# Access preprocessed collection to retrieve documents\n",
    "processedCollection = db['preprocessed']"
   ]
  },
  {
   "cell_type": "code",
   "execution_count": 36,
   "id": "0d67203e",
   "metadata": {},
   "outputs": [],
   "source": [
    "document1 = processedCollection.find_one({\"bug_id\":\"1\"})\n",
    "document2 = processedCollection.find_one({\"bug_id\":\"3\"})"
   ]
  },
  {
   "cell_type": "code",
   "execution_count": 50,
   "id": "78f4dce0",
   "metadata": {},
   "outputs": [
    {
     "name": "stdout",
     "output_type": "stream",
     "text": [
      "Tf-idf:1\n",
      "{'usability': 79, 'issue': 33, 'external': 23, 'editor': 17, 'project': 56, 'contains': 10, 'gif': 28, 'resource': 65, 'cvs': 11, 'release': 63, 'navigator': 45, 'open': 51, 'icon': 30, 'verify': 81, 'change': 3, 'problem': 55, 'refreshed': 60, 'local': 37, 'workspace': 83, 'changed': 4, 'opening': 52, 'modified': 43, 'file': 26, 'disk': 14, 'showed': 70, 'real': 58, 'occurs': 49, 'actually': 0, 'spot': 72, 'missing': 42, 'extremely': 24, 'error': 22, 'prone': 57, 'build': 1, 'notes': 47, 'refresh': 59, 'moving': 44, 'vcm': 80, 'comments': 5, 'jm': 35, 'related': 61, 'email': 19, 'free': 27, 'setting': 69, 'optoinal': 54, 'nt': 48, 'mandatory': 41, 'default': 12, 'consider': 8, 'swt': 75, 'team': 76, 'network': 46, 'drive': 16, 'slow': 71, 'effect': 18, 'run': 67, 'completed': 7, 'unless': 78, 'runnable': 68, 'end': 20, 'le': 36, 'optimal': 53, 'builder': 2, 'responsible': 66, 'maintaining': 40, 'invariant': 32, 'deriving': 13, 'releasable': 62, 'releasing': 64, 'maintained': 39, 'inconsistent': 31, 'state': 73, 'summary': 74, 'offer': 50, 'ensure': 21, 'consistency': 9, 'itpvcm': 34, 'winnt': 82, 'comparing': 6, 'document': 15, 'failed': 25, 'got': 29, 'log': 38, 'tod': 77}\n",
      "Tf-idf:2\n",
      "{'sync': 39, 'indicate': 19, 'deletion': 10, 'pr': 28, 'indicator': 21, 'viewer': 45, 'subtle': 37, 'true': 41, 'vision': 46, 'problem': 30, 'ne': 25, 'good': 17, 'suggestion': 38, 'using': 43, 'label': 22, 'compare': 7, 'text': 40, 'consider': 8, 'better': 3, 'icon': 18, 'file': 15, 'project': 31, 'indication': 20, 'deleted': 9, 'workspace': 47, 'look': 23, 'notes': 26, 'appear': 0, 'rightfacing': 34, 'arrow': 1, 'view': 44, 'sent': 36, 'screen': 35, 'cap': 4, 'requesting': 33, 'clarification': 5, 'clearer': 6, 'present': 29, 'easy': 12, 'miss': 24, 'distinction': 11, 'especially': 13, 'user': 42, 'attention': 2, 'focussed': 16, 'pane': 27, 'expect': 14, 'repository': 32}\n"
     ]
    }
   ],
   "source": [
    "matrix1,tfidf1 = score1(document1)\n",
    "matrix2,tfidf2 = score1(document2)\n",
    "print('Tf-idf:1')\n",
    "print(tfidf1.vocabulary_)\n",
    "print('Tf-idf:2')\n",
    "print(tfidf2.vocabulary_)\n",
    "#print('\\nidf values:')\n",
    "# for ele1, ele2 in zip(tfidf.get_feature_names(), tfidf.idf_):\n",
    "#     print(ele1, ':', ele2)"
   ]
  },
  {
   "cell_type": "code",
   "execution_count": 46,
   "id": "0d66d7c2",
   "metadata": {},
   "outputs": [
    {
     "data": {
      "text/plain": [
       "dtype('float64')"
      ]
     },
     "execution_count": 46,
     "metadata": {},
     "output_type": "execute_result"
    }
   ],
   "source": [
    "matrix1.dtype"
   ]
  },
  {
   "cell_type": "code",
   "execution_count": 44,
   "id": "03f4672b",
   "metadata": {},
   "outputs": [
    {
     "data": {
      "text/plain": [
       "array([[0.08574929, 0.25724788, 0.08574929, 0.08574929, 0.08574929,\n",
       "        0.08574929, 0.08574929, 0.17149859, 0.08574929, 0.25724788,\n",
       "        0.17149859, 0.08574929, 0.08574929, 0.08574929, 0.08574929,\n",
       "        0.42874646, 0.08574929, 0.08574929, 0.08574929, 0.17149859,\n",
       "        0.08574929, 0.08574929, 0.25724788, 0.08574929, 0.08574929,\n",
       "        0.17149859, 0.08574929, 0.08574929, 0.17149859, 0.08574929,\n",
       "        0.08574929, 0.08574929, 0.17149859, 0.08574929, 0.08574929,\n",
       "        0.08574929, 0.08574929, 0.08574929, 0.08574929, 0.25724788,\n",
       "        0.17149859, 0.08574929, 0.08574929, 0.08574929, 0.08574929,\n",
       "        0.17149859, 0.08574929, 0.25724788, 0.        , 0.        ,\n",
       "        0.        , 0.        , 0.        , 0.        , 0.        ,\n",
       "        0.        , 0.        , 0.        , 0.        , 0.        ,\n",
       "        0.        , 0.        , 0.        , 0.        , 0.        ,\n",
       "        0.        , 0.        , 0.        , 0.        , 0.        ,\n",
       "        0.        , 0.        , 0.        , 0.        , 0.        ,\n",
       "        0.        , 0.        , 0.        , 0.        , 0.        ,\n",
       "        0.        , 0.        , 0.        , 0.        ]])"
      ]
     },
     "execution_count": 44,
     "metadata": {},
     "output_type": "execute_result"
    }
   ],
   "source": [
    "matrix2.resize(matrix1.shape)\n",
    "matrix2.toarray()"
   ]
  },
  {
   "cell_type": "code",
   "execution_count": 41,
   "id": "9c0c65fe",
   "metadata": {},
   "outputs": [
    {
     "data": {
      "text/plain": [
       "array([[1.]])"
      ]
     },
     "execution_count": 41,
     "metadata": {},
     "output_type": "execute_result"
    }
   ],
   "source": [
    "cosine_similarity(matrix1,matrix2)"
   ]
  },
  {
   "cell_type": "code",
   "execution_count": null,
   "id": "745ff8a7",
   "metadata": {},
   "outputs": [],
   "source": []
  }
 ],
 "metadata": {
  "kernelspec": {
   "display_name": "Python 3",
   "language": "python",
   "name": "python3"
  },
  "language_info": {
   "codemirror_mode": {
    "name": "ipython",
    "version": 3
   },
   "file_extension": ".py",
   "mimetype": "text/x-python",
   "name": "python",
   "nbconvert_exporter": "python",
   "pygments_lexer": "ipython3",
   "version": "3.8.8"
  }
 },
 "nbformat": 4,
 "nbformat_minor": 5
}
