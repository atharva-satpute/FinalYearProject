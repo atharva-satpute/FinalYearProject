{
  "nbformat": 4,
  "nbformat_minor": 0,
  "metadata": {
    "colab": {
      "name": "Corpus",
      "provenance": [],
      "collapsed_sections": []
    },
    "kernelspec": {
      "name": "python3",
      "display_name": "Python 3"
    },
    "language_info": {
      "name": "python"
    }
  },
  "cells": [
    {
      "cell_type": "code",
      "source": [
        "from google.colab import drive\n",
        "drive.mount('/gdrive')"
      ],
      "metadata": {
        "colab": {
          "base_uri": "https://localhost:8080/"
        },
        "id": "JKRKbUrOgFAc",
        "outputId": "1abd1393-3b9c-4f73-eb44-55e77d6592e2"
      },
      "execution_count": null,
      "outputs": [
        {
          "output_type": "stream",
          "name": "stdout",
          "text": [
            "Mounted at /gdrive\n"
          ]
        }
      ]
    },
    {
      "cell_type": "code",
      "execution_count": null,
      "metadata": {
        "colab": {
          "base_uri": "https://localhost:8080/"
        },
        "id": "czuVqxopxLH2",
        "outputId": "1f426f7c-0709-427e-91c5-7a83e2e960b1"
      },
      "outputs": [
        {
          "output_type": "stream",
          "name": "stdout",
          "text": [
            "\n",
            "WARNING: apt does not have a stable CLI interface. Use with caution in scripts.\n",
            "\n",
            " * Starting database mongodb\n",
            "   ...done.\n",
            "--2022-01-26 22:28:33--  http://alazar.people.ysu.edu/msr14data/datasets/eclipse.tar.gz\n",
            "Resolving alazar.people.ysu.edu (alazar.people.ysu.edu)... 150.134.10.16\n",
            "Connecting to alazar.people.ysu.edu (alazar.people.ysu.edu)|150.134.10.16|:80... connected.\n",
            "HTTP request sent, awaiting response... 200 OK\n",
            "Length: 266976961 (255M) [application/x-gzip]\n",
            "Saving to: ‘eclipse.tar.gz’\n",
            "\n",
            "eclipse.tar.gz      100%[===================>] 254.61M  3.63MB/s    in 52s     \n",
            "\n",
            "2022-01-26 22:29:26 (4.90 MB/s) - ‘eclipse.tar.gz’ saved [266976961/266976961]\n",
            "\n",
            "dump/eclipse/pairs.metadata.json\n",
            "dump/eclipse/\n",
            "dump/eclipse/system.indexes.bson\n",
            "dump/eclipse/clear.bson\n",
            "dump/\n",
            "dump/eclipse/initial.bson\n",
            "dump/eclipse/clear.metadata.json\n",
            "dump/eclipse/initial.metadata.json\n",
            "dump/eclipse/pairs.bson\n",
            "2022-01-26T22:29:36.490+0000\tusing default 'dump' directory\n",
            "2022-01-26T22:29:36.490+0000\tpreparing collections to restore from\n",
            "2022-01-26T22:29:36.491+0000\treading metadata for eclipse.initial from dump/eclipse/initial.metadata.json\n",
            "2022-01-26T22:29:36.491+0000\treading metadata for eclipse.clear from dump/eclipse/clear.metadata.json\n",
            "2022-01-26T22:29:37.026+0000\trestoring eclipse.initial from dump/eclipse/initial.bson\n",
            "2022-01-26T22:29:37.054+0000\treading metadata for eclipse.pairs from dump/eclipse/pairs.metadata.json\n",
            "2022-01-26T22:29:37.054+0000\trestoring eclipse.clear from dump/eclipse/clear.bson\n",
            "2022-01-26T22:29:37.086+0000\trestoring eclipse.pairs from dump/eclipse/pairs.bson\n",
            "2022-01-26T22:29:39.490+0000\t[###.....................]  eclipse.initial   78.6MB/563MB  (14.0%)\n",
            "2022-01-26T22:29:39.490+0000\t[####....................]    eclipse.clear   83.9MB/484MB  (17.3%)\n",
            "2022-01-26T22:29:39.490+0000\t[#############...........]    eclipse.pairs  7.59MB/13.2MB  (57.5%)\n",
            "2022-01-26T22:29:39.490+0000\t\n",
            "2022-01-26T22:29:41.210+0000\t[########################]  eclipse.pairs  13.2MB/13.2MB  (100.0%)\n",
            "2022-01-26T22:29:41.210+0000\tno indexes to restore\n",
            "2022-01-26T22:29:41.210+0000\tfinished restoring eclipse.pairs (271098 documents)\n",
            "2022-01-26T22:29:42.488+0000\t[#######.................]  eclipse.initial  165MB/563MB  (29.3%)\n",
            "2022-01-26T22:29:42.488+0000\t[########................]    eclipse.clear  171MB/484MB  (35.2%)\n",
            "2022-01-26T22:29:42.488+0000\t\n",
            "2022-01-26T22:29:45.488+0000\t[###########.............]  eclipse.initial  270MB/563MB  (48.0%)\n",
            "2022-01-26T22:29:45.488+0000\t[##############..........]    eclipse.clear  283MB/484MB  (58.4%)\n",
            "2022-01-26T22:29:45.488+0000\t\n",
            "2022-01-26T22:29:48.488+0000\t[###############.........]  eclipse.initial  366MB/563MB  (65.1%)\n",
            "2022-01-26T22:29:48.488+0000\t[###################.....]    eclipse.clear  385MB/484MB  (79.4%)\n",
            "2022-01-26T22:29:48.488+0000\t\n",
            "2022-01-26T22:29:51.488+0000\t[###################.....]  eclipse.initial  452MB/563MB  (80.4%)\n",
            "2022-01-26T22:29:51.488+0000\t[#######################.]    eclipse.clear  469MB/484MB  (97.0%)\n",
            "2022-01-26T22:29:51.488+0000\t\n",
            "2022-01-26T22:29:51.876+0000\t[########################]  eclipse.clear  484MB/484MB  (100.0%)\n",
            "2022-01-26T22:29:51.876+0000\tno indexes to restore\n",
            "2022-01-26T22:29:51.876+0000\tfinished restoring eclipse.clear (361006 documents)\n",
            "2022-01-26T22:29:53.741+0000\t[########################]  eclipse.initial  563MB/563MB  (100.0%)\n",
            "2022-01-26T22:29:53.741+0000\tno indexes to restore\n",
            "2022-01-26T22:29:53.741+0000\tfinished restoring eclipse.initial (423559 documents)\n",
            "2022-01-26T22:29:53.741+0000\tdone\n",
            "Requirement already satisfied: gensim in /usr/local/lib/python3.7/dist-packages (3.6.0)\n",
            "Collecting gensim\n",
            "  Downloading gensim-4.1.2-cp37-cp37m-manylinux_2_12_x86_64.manylinux2010_x86_64.whl (24.1 MB)\n",
            "\u001b[K     |████████████████████████████████| 24.1 MB 1.6 MB/s \n",
            "\u001b[?25hRequirement already satisfied: smart-open>=1.8.1 in /usr/local/lib/python3.7/dist-packages (from gensim) (5.2.1)\n",
            "Requirement already satisfied: numpy>=1.17.0 in /usr/local/lib/python3.7/dist-packages (from gensim) (1.19.5)\n",
            "Requirement already satisfied: scipy>=0.18.1 in /usr/local/lib/python3.7/dist-packages (from gensim) (1.4.1)\n",
            "Installing collected packages: gensim\n",
            "  Attempting uninstall: gensim\n",
            "    Found existing installation: gensim 3.6.0\n",
            "    Uninstalling gensim-3.6.0:\n",
            "      Successfully uninstalled gensim-3.6.0\n",
            "Successfully installed gensim-4.1.2\n"
          ]
        }
      ],
      "source": [
        "!apt install mongodb >log\n",
        "!service mongodb start\n",
        "!wget http://alazar.people.ysu.edu/msr14data/datasets/eclipse.tar.gz\n",
        "!tar zxvf eclipse.tar.gz\n",
        "!mongorestore\n",
        "!pip install --upgrade gensim"
      ]
    },
    {
      "cell_type": "code",
      "source": [
        "from pymongo import MongoClient\n",
        "import gensim\n",
        "import nltk\n",
        "import re\n",
        "from nltk.stem.snowball import SnowballStemmer\n",
        "from nltk.corpus import stopwords\n",
        "from nltk.tokenize import wordpunct_tokenize\n",
        "from pymongo.errors import DuplicateKeyError\n",
        "\n",
        "import warnings\n",
        "warnings.filterwarnings('ignore')\n",
        "\n",
        "\n",
        "try:\n",
        "    nltk.data.find('./corpora/stopwords')\n",
        "except LookupError:\n",
        "    nltk.download('stopwords')\n",
        "\n",
        "try:\n",
        "    nltk.data.find('./corpora/wordnet')\n",
        "except LookupError:\n",
        "    nltk.download('wordnet')\n",
        "\n",
        "from sklearn.metrics.pairwise import cosine_similarity\n",
        "import numpy as np\n",
        "\n",
        "client = MongoClient()\n",
        "db = client['eclipse']"
      ],
      "metadata": {
        "colab": {
          "base_uri": "https://localhost:8080/"
        },
        "id": "DmYAEKfJxNqD",
        "outputId": "42607b87-58da-4da1-83c5-4d3fffc73d1b"
      },
      "execution_count": null,
      "outputs": [
        {
          "output_type": "stream",
          "name": "stdout",
          "text": [
            "[nltk_data] Downloading package stopwords to /root/nltk_data...\n",
            "[nltk_data]   Unzipping corpora/stopwords.zip.\n",
            "[nltk_data] Downloading package wordnet to /root/nltk_data...\n",
            "[nltk_data]   Unzipping corpora/wordnet.zip.\n"
          ]
        }
      ]
    },
    {
      "cell_type": "code",
      "source": [
        "'''from pymongo import MongoClient\n",
        "from processing import processDocument\n",
        "from tqdm import tqdm\n",
        "from google.colab import files\n",
        "\n",
        "\n",
        "client = MongoClient()\n",
        "db = client['eclipse']\n",
        "collection = db['initial']\n",
        "\n",
        "fields = {'_id': 0,'bug_id':1,'description':1,'short_desc':1}\n",
        "BATCH_SIZE = 50000\n",
        "\n",
        "collection.create_index('bug_id')\n",
        "\n",
        "with open('sentencesB1_50000.txt','w') as file:\n",
        "    cursor = collection.find({},fields,no_cursor_timeout=True)\n",
        "    cursor.skip(50000)\n",
        "    doc = None\n",
        "    string = \"\"\n",
        "    count = 1\n",
        "    while count<=1:\n",
        "        string = \"\"\n",
        "        for _ in tqdm(range(BATCH_SIZE)):\n",
        "            doc = next(cursor,None)\n",
        "            #print(\"{}\\r\".format(doc['bug_id']),end='')\n",
        "            if doc:\n",
        "                string += str({doc[\"bug_id\"]:list(processDocument(doc,2))}) + '\\n'\n",
        "            else:\n",
        "                break\n",
        "        file.write(string)\n",
        "        print(\"Batch {} done!\".format(count))\n",
        "        count += 1\n",
        "        if doc == None:\n",
        "            break\n",
        "    cursor.close()\n",
        "file.close\n",
        "client.close()\n",
        "files.download('sentencesB1_50000.txt');'''"
      ],
      "metadata": {
        "id": "iKVyzKgYzav1"
      },
      "execution_count": null,
      "outputs": []
    },
    {
      "cell_type": "code",
      "source": [
        "# Load pre-trained Word2Vec model.\n",
        "model = gensim.models.Word2Vec.load(\"/gdrive/MyDrive/trained_skip_gram/trained_sg_270122_2_corpus_ds.model\", mmap = 'r')"
      ],
      "metadata": {
        "id": "9YWcn9uHWvXJ"
      },
      "execution_count": null,
      "outputs": []
    },
    {
      "cell_type": "code",
      "source": [
        "cur = db.pairs.find()\n",
        "collection = db['initial']"
      ],
      "metadata": {
        "id": "4PmgYlxLWvTn"
      },
      "execution_count": null,
      "outputs": []
    },
    {
      "cell_type": "code",
      "source": [
        "# To generate a single vector for a document by combining vectors of the words of the document\n",
        "def mean_vector(model,wordsTokens:list):\n",
        "    if len(wordsTokens) > 0:\n",
        "        return np.mean(model.wv[wordsTokens],axis = 0)\n",
        "def processDocument(document):\n",
        "    \n",
        "    contentofInterest = document['description'] + document['short_desc']  # COI\n",
        "    \n",
        "    cleanedCOI = cleaning(contentofInterest)\n",
        "    tokenized_COI = tokenize(cleanedCOI)\n",
        "    COI_without_sw = removeStopwords(tokenized_COI)\n",
        "    \n",
        "    return COI_without_sw\n",
        "def cleaning(document):\n",
        "    try:\n",
        "        # To remove timestamp and date\n",
        "        document = re.sub(r\"(([A-Z]{2,}\\s)*(\\([0-9\\/]+(\\s)*[0-9]{1,2}:[0-9]{1,2}:[0-9]{1,2} (AM|PM)*)\\))\",'',document)\n",
        "        \n",
        "        # To remove XML code\n",
        "        document = re.sub(r\"(\\<\\?xml[a-zA-Z0-9\\.\\s\\=\\?\\\"\\-\\>\\\\n\\<\\:\\/\\_]*(\\<\\/)[a-zA-Z0-9\\:\\_]*\\>)\",'',document)\n",
        "        \n",
        "        \n",
        "        # To remove any hyperlinks\n",
        "        document = re.sub(r\"(http|https):(\\/{2})(www\\.)([a-zA-z0-9]*\\.([a-z]*)(\\.)*)\",'',document)\n",
        "        document = re.sub(r\"(http|https):(\\/{2}[a-zA-Z0-9\\.\\-\\/\\:\\?\\=]*)\",'',document)\n",
        "        \n",
        "        \n",
        "        # To remove error string like in bug_id:99873\n",
        "        # (e.g-line: 62\\n\\tServerTypeDefinitionUtil.getServerClassPathEntry)\n",
        "        document = re.sub(r\"(line\\:\\s[0-9]*([\\\\n\\\\t])*([a-zA-Z0-9\\(\\)\\$\\[\\]\\\\n\\\\t\\s]*\\.[a-zA-Z0-9\\(\\)\\,\\\\n\\[\\]\\s\\$\\_]*\\))*)\",\n",
        "                       '',document)\n",
        "        \n",
        "        # To remove the org. from error eg(org.eclipse.ui.internal.Workbench.createAndRunWorkbench(Workbench.java:366))\n",
        "        document = re.sub(r\"((\\()*(org|sun|java|junit|e.g)\\.[a-zA-Z0-9\\.\\$\\(\\:\\s\\-\\,\\_\\\\\\<\\>]*(\\)+|))\",'',document)\n",
        "        \n",
        "        # To remove string like 'Log: Wed Jun 06 12:51:50 EDT 2001'\n",
        "        document = re.sub(r\"(Log\\:[a-zA-Z0-9\\s\\:]+([0-9]{4}))\",'',document)\n",
        "        \n",
        "        # To remove strings like /usr/lib/libthread.so.1  (bug_id:33431)\n",
        "        document = re.sub(r\"((\\/opt|\\/usr)\\/[a-zA-Z0-9\\/\\.\\_\\,\\-]*)\",'',document)\n",
        "        \n",
        "        # To remove hexadecimal numbers (bug_id:33431)\n",
        "        document = re.sub(r\"(0[xX][a-fA-F0-9]+)\",'',document)\n",
        "        \n",
        "        # To remove cpp,c,java code\n",
        "        document = re.sub(r\"((\\()*[a-zA-Z]+\\.(cpp|java)[a-zA-Z0-9\\:\\\\n\\#\\s\\<\\>\\;\\(\\,\\*\\)\\{\\\"\\/\\+\\.\\-\\_\\\\n\\=]*(\\})*)\",\n",
        "                       '',document)\n",
        "        \n",
        "        # To remove text between {}\n",
        "        document = re.sub(r\"(\\{[a-zA-Z0-9\\s\\(\\)\\\\n\\\\t\\{\\:\\<\\-\\>\\=\\'\\[\\]\\\"\\|\\*\\.\\;\\,\\?]+\\})\",'',document)\n",
        "        \n",
        "        # To remove testcase(check bug report no:99844)\n",
        "        document = re.sub(r\"(Testcase\\:.*\\})\",'',document)\n",
        "        \n",
        "        # To remove all text within () or [] or <>\n",
        "        document = re.sub(r\"(\\([a-zA-Z0-9\\s\\+\\*\\.\\,\\<\\-\\>\\?\\\\n\\-\\'\\_\\/\\$\\[\\]\\(\\\"\\:\\#\\;\\%\\!]*\\)+|(\\[[a-zA-Z0-9\\s\\:]*\\])|(\\<[a-zA-Z0-9\\_\\.\\s\\:\\<\\,]*\\>+))\",\n",
        "                       '',document)\n",
        "        \n",
        "        # To remove alphanumeric string like 1GE8YMJ:\n",
        "        document = re.sub(r\"([0-9][a-zA-Z0-9]{6}(\\:)*)\",'',document)\n",
        "        \n",
        "        # To remove string starting with CVS/\n",
        "        document = re.sub(r\"(CVS(\\/)*([a-zA-Z]{1,15}\\.[a-zA-Z]*)*)\",'',document)\n",
        "        \n",
        "        # To remove file name 'org.eclipse.gmt.am3.usecase.osgipluginmanagement.zip'\n",
        "        document = re.sub(r\"(org\\.[a-zA-Z0-9\\.\\$\\=\\_\\(\\:\\s]*(zip|gz|tar))\",'',document)\n",
        "        \n",
        "        # To remove strings like 'Authors: Mathieu Vénisse & Guillaume Doux'\n",
        "        document = re.sub(r\"(Authors\\:[\\sA-Za-z\\u00C0-\\u00ff\\&]+)\",'',document)\n",
        "        \n",
        "        # To remove string 'Best regards' and NOTES:\n",
        "        document = re.sub(r\"((Best regards\\,.+\\.)|(NOTES\\:))\",'',document)\n",
        "        \n",
        "        # To remove strings like OS=linux, ARCH=x86\n",
        "        document = re.sub(r\"([A-Z\\.]*(\\=)+[a-zA-Z0-9\\s\\.\\_]*)\",'',document)\n",
        "        \n",
        "        # To remove strings like (- v, - y)\n",
        "        document = re.sub(r\"((\\-)+(\\s)*[a-zA-Z]\\W)\",' ',document)\n",
        "        \n",
        "        # To remove string like ITPVCM:WINNT\n",
        "        document = re.sub(r\"([a-zA-Z]+:[a-zA-Z]+)\",'',document)\n",
        "        \n",
        "        # To change words like Don't to Dont\n",
        "        document = re.sub(r\"(\\')\",'',document)\n",
        "        \n",
        "        # To remove email\n",
        "        document = re.sub(r\"\\b[A-Za-z0-9._%+-]+@[A-Za-z0-9.-]+\\.[A-Z|a-z]{2,}\\b\",'',document)\n",
        "        \n",
        "        # To remove windows path\n",
        "        document = re.sub(r\"[a-zA-Z]:[\\\\]{2}(?:[a-zA-Z0-9\\.]+[\\\\\\/]{1,2})*\",'',document)\n",
        "        \n",
        "        # To remove \\\\\n",
        "        document = re.sub(r\"(\\\\){2}\",'',document)\n",
        "        \n",
        "        # To remove other special chacters\n",
        "#         document = re.sub(r\"[\\-\\'\\:\\?\\/\\[\\]\\\"\\$\\>\\<\\,\\!\\+\\#\\*\\_\\|\\;\\}\\{\\(\\)]\",' ',document) -> replaced with a short regex\n",
        "        document = re.sub(r\"[^a-zA-Z\\s\\\\]\",' ',document)\n",
        "        \n",
        "        # To remove string like (STACK 0) (bug_id: 88623)\n",
        "        document = re.sub(r\"([A-Z]+\\s[0-9]+)\",'',document)\n",
        "        \n",
        "        # To remove repetitive characters (bug_id: 170,146)\n",
        "        document = re.sub(r\"\\b[\\\\](\\w+)(?:\\w+\\1\\b)+\",'',document)\n",
        "        \n",
        "        # To remove all spaces greater than 2\n",
        "        document = re.sub(r\"((\\s){2,})\",' ',document)\n",
        "        \n",
        "        \n",
        "    except TypeError:\n",
        "        print('TypeError for bug id: ',document['bug_id'])\n",
        "    except DuplicateKeyError:\n",
        "        print('DuplicateKeyError for bug id: ',document['bug_id'])\n",
        "    \n",
        "    return document\n",
        "    \n",
        "def tokenize(document):\n",
        "    tokens = wordpunct_tokenize(document)\n",
        "    \n",
        "    return tokens\n",
        "\n",
        "def removeStopwords(tokens):\n",
        "    tokens_without_sw = [word.lower() for word in tokens if not word in stopwords.words()]\n",
        "    \n",
        "    return tokens_without_sw\n",
        "\n",
        "def wordStemming(tokens):\n",
        "    snow_stemmer = SnowballStemmer(language='english')\n",
        "    stem_words = [snow_stemmer.stem(word) for word in tokens]\n",
        "    \n",
        "    return stem_words\n"
      ],
      "metadata": {
        "id": "ilCAj5vGb85p"
      },
      "execution_count": null,
      "outputs": []
    },
    {
      "cell_type": "code",
      "source": [
        "cur.next()"
      ],
      "metadata": {
        "colab": {
          "base_uri": "https://localhost:8080/"
        },
        "id": "OzDWrOspcbiz",
        "outputId": "14d603ae-1ffd-45ee-c6a8-d0abcd596ab4"
      },
      "execution_count": null,
      "outputs": [
        {
          "output_type": "execute_result",
          "data": {
            "text/plain": [
              "{'_id': ObjectId('5307f231166663d2e3f71271'),\n",
              " 'bug1': 214301,\n",
              " 'bug2': 214611,\n",
              " 'dec': 1}"
            ]
          },
          "metadata": {},
          "execution_count": 7
        }
      ]
    },
    {
      "cell_type": "code",
      "source": [
        "bug_doc1 = collection.find_one({'bug_id':'214301'})\n",
        "bug1 = processDocument(bug_doc1)\n",
        "bug_doc2 = collection.find_one({'bug_id':'214611'})\n",
        "bug2 = processDocument(bug_doc2)\n",
        "vector1 = mean_vector(model,bug1)\n",
        "vector2 = mean_vector(model,bug2)\n",
        "print(cosine_similarity([vector1],[vector2]))"
      ],
      "metadata": {
        "colab": {
          "base_uri": "https://localhost:8080/"
        },
        "id": "tQheNgv7cNWD",
        "outputId": "20af5829-67d0-40c1-f8eb-c1ea305098a3"
      },
      "execution_count": null,
      "outputs": [
        {
          "output_type": "stream",
          "name": "stdout",
          "text": [
            "[[0.918087]]\n"
          ]
        }
      ]
    },
    {
      "cell_type": "code",
      "source": [
        "cur.next()"
      ],
      "metadata": {
        "colab": {
          "base_uri": "https://localhost:8080/"
        },
        "id": "RG-7SfBwcqgo",
        "outputId": "40600a87-5303-45df-8289-a2a740a79a43"
      },
      "execution_count": null,
      "outputs": [
        {
          "output_type": "execute_result",
          "data": {
            "text/plain": [
              "{'_id': ObjectId('5307f231166663d2e3f71272'),\n",
              " 'bug1': 214623,\n",
              " 'bug2': 214825,\n",
              " 'dec': -1}"
            ]
          },
          "metadata": {},
          "execution_count": 9
        }
      ]
    },
    {
      "cell_type": "code",
      "source": [
        "bug_doc1 = collection.find_one({'bug_id':'214623'})\n",
        "bug1 = processDocument(bug_doc1)\n",
        "bug_doc2 = collection.find_one({'bug_id':'214825'})\n",
        "bug2 = processDocument(bug_doc2)\n",
        "vector1 = mean_vector(model,bug1)\n",
        "vector2 = mean_vector(model,bug2)\n",
        "print(cosine_similarity([vector1],[vector2]))"
      ],
      "metadata": {
        "colab": {
          "base_uri": "https://localhost:8080/"
        },
        "id": "fzpi8mECcxjQ",
        "outputId": "4dff6f85-b13d-40e2-9242-bccaacfaabf7"
      },
      "execution_count": null,
      "outputs": [
        {
          "output_type": "stream",
          "name": "stdout",
          "text": [
            "[[0.80060947]]\n"
          ]
        }
      ]
    },
    {
      "cell_type": "code",
      "source": [
        "cur.next()"
      ],
      "metadata": {
        "colab": {
          "base_uri": "https://localhost:8080/"
        },
        "id": "Nm5WclG7c2LN",
        "outputId": "2475f34e-96ca-4390-8ce2-547f81cc2593"
      },
      "execution_count": null,
      "outputs": [
        {
          "output_type": "execute_result",
          "data": {
            "text/plain": [
              "{'_id': ObjectId('5307f231166663d2e3f71273'),\n",
              " 'bug1': 214445,\n",
              " 'bug2': 214451,\n",
              " 'dec': 1}"
            ]
          },
          "metadata": {},
          "execution_count": 11
        }
      ]
    },
    {
      "cell_type": "code",
      "source": [
        "bug_doc1 = collection.find_one({'bug_id':'214445'})\n",
        "bug1 = processDocument(bug_doc1)\n",
        "bug_doc2 = collection.find_one({'bug_id':'214451'})\n",
        "bug2 = processDocument(bug_doc2)\n",
        "vector1 = mean_vector(model,bug1)\n",
        "vector2 = mean_vector(model,bug2)\n",
        "print(cosine_similarity([vector1],[vector2]))"
      ],
      "metadata": {
        "colab": {
          "base_uri": "https://localhost:8080/"
        },
        "id": "GxOmjNOoc5Mo",
        "outputId": "ac6059db-d395-452a-cb34-ad8da3ccf9d6"
      },
      "execution_count": null,
      "outputs": [
        {
          "output_type": "stream",
          "name": "stdout",
          "text": [
            "[[0.9572139]]\n"
          ]
        }
      ]
    },
    {
      "cell_type": "code",
      "source": [
        "cur.next()"
      ],
      "metadata": {
        "colab": {
          "base_uri": "https://localhost:8080/"
        },
        "id": "zIYuXvjic9Yk",
        "outputId": "1ecb21bf-8621-45a3-8b24-d7efe231c36e"
      },
      "execution_count": null,
      "outputs": [
        {
          "output_type": "execute_result",
          "data": {
            "text/plain": [
              "{'_id': ObjectId('5307f231166663d2e3f71275'),\n",
              " 'bug1': 214181,\n",
              " 'bug2': 214620,\n",
              " 'dec': -1}"
            ]
          },
          "metadata": {},
          "execution_count": 14
        }
      ]
    },
    {
      "cell_type": "code",
      "source": [
        "bug_doc1 = collection.find_one({'bug_id':'214181'})\n",
        "bug1 = processDocument(bug_doc1)\n",
        "bug_doc2 = collection.find_one({'bug_id':'214620'})\n",
        "bug2 = processDocument(bug_doc2)\n",
        "vector1 = mean_vector(model,bug1)\n",
        "vector2 = mean_vector(model,bug2)\n",
        "print(cosine_similarity([vector1],[vector2]))"
      ],
      "metadata": {
        "colab": {
          "base_uri": "https://localhost:8080/"
        },
        "id": "Z_Gy06V-c_sn",
        "outputId": "8c6fe5e3-f0a9-4d0d-f5eb-c0223818b822"
      },
      "execution_count": null,
      "outputs": [
        {
          "output_type": "stream",
          "name": "stdout",
          "text": [
            "[[0.69625145]]\n"
          ]
        }
      ]
    },
    {
      "cell_type": "code",
      "source": [
        "cur.next()"
      ],
      "metadata": {
        "colab": {
          "base_uri": "https://localhost:8080/"
        },
        "id": "MTGDq046dEeW",
        "outputId": "08721602-0e16-41e5-c0c9-2c45d9fc7065"
      },
      "execution_count": null,
      "outputs": [
        {
          "output_type": "execute_result",
          "data": {
            "text/plain": [
              "{'_id': ObjectId('5307f231166663d2e3f71276'),\n",
              " 'bug1': 214577,\n",
              " 'bug2': 214179,\n",
              " 'dec': -1}"
            ]
          },
          "metadata": {},
          "execution_count": 16
        }
      ]
    },
    {
      "cell_type": "code",
      "source": [
        "bug_doc1 = collection.find_one({'bug_id':'214577'})\n",
        "bug1 = processDocument(bug_doc1)\n",
        "bug_doc2 = collection.find_one({'bug_id':'214179'})\n",
        "bug2 = processDocument(bug_doc2)\n",
        "vector1 = mean_vector(model,bug1)\n",
        "vector2 = mean_vector(model,bug2)\n",
        "print(cosine_similarity([vector1],[vector2]))"
      ],
      "metadata": {
        "colab": {
          "base_uri": "https://localhost:8080/"
        },
        "id": "WQ1rh8GSdHEq",
        "outputId": "8fa49d06-01f1-4ef4-ee46-59d2a0786d39"
      },
      "execution_count": null,
      "outputs": [
        {
          "output_type": "stream",
          "name": "stdout",
          "text": [
            "[[0.7372564]]\n"
          ]
        }
      ]
    },
    {
      "cell_type": "code",
      "source": [
        "cur.next()"
      ],
      "metadata": {
        "colab": {
          "base_uri": "https://localhost:8080/"
        },
        "id": "O9qg1mvxdKw8",
        "outputId": "caa18d7e-5b61-4d53-93ba-aeca87ede8c9"
      },
      "execution_count": null,
      "outputs": [
        {
          "output_type": "execute_result",
          "data": {
            "text/plain": [
              "{'_id': ObjectId('5307f231166663d2e3f71277'),\n",
              " 'bug1': 214862,\n",
              " 'bug2': 214759,\n",
              " 'dec': 1}"
            ]
          },
          "metadata": {},
          "execution_count": 18
        }
      ]
    },
    {
      "cell_type": "code",
      "source": [
        "bug_doc1 = collection.find_one({'bug_id':'214862'})\n",
        "bug1 = processDocument(bug_doc1)\n",
        "bug_doc2 = collection.find_one({'bug_id':'214759'})\n",
        "bug2 = processDocument(bug_doc2)\n",
        "vector1 = mean_vector(model,bug1)\n",
        "vector2 = mean_vector(model,bug2)\n",
        "print(cosine_similarity([vector1],[vector2]))"
      ],
      "metadata": {
        "colab": {
          "base_uri": "https://localhost:8080/"
        },
        "id": "xj_YdFlpdMgX",
        "outputId": "9d76e7e3-37f6-49cf-8ee4-ef7f84fa2122"
      },
      "execution_count": null,
      "outputs": [
        {
          "output_type": "stream",
          "name": "stdout",
          "text": [
            "[[0.9102196]]\n"
          ]
        }
      ]
    },
    {
      "cell_type": "code",
      "source": [
        "cur.next()"
      ],
      "metadata": {
        "colab": {
          "base_uri": "https://localhost:8080/"
        },
        "id": "r3uKEdQxdWUT",
        "outputId": "1250c827-1afd-4c3f-8f4a-be74ba85179d"
      },
      "execution_count": null,
      "outputs": [
        {
          "output_type": "execute_result",
          "data": {
            "text/plain": [
              "{'_id': ObjectId('5307f231166663d2e3f71278'),\n",
              " 'bug1': 215000,\n",
              " 'bug2': 214738,\n",
              " 'dec': -1}"
            ]
          },
          "metadata": {},
          "execution_count": 20
        }
      ]
    },
    {
      "cell_type": "code",
      "source": [
        "bug_doc1 = collection.find_one({'bug_id':'215000'})\n",
        "bug1 = processDocument(bug_doc1)\n",
        "bug_doc2 = collection.find_one({'bug_id':'214738'})\n",
        "bug2 = processDocument(bug_doc2)\n",
        "vector1 = mean_vector(model,bug1)\n",
        "vector2 = mean_vector(model,bug2)\n",
        "print(cosine_similarity([vector1],[vector2]))"
      ],
      "metadata": {
        "colab": {
          "base_uri": "https://localhost:8080/"
        },
        "id": "WLkBSxCadX7O",
        "outputId": "658bda8b-b32e-4d0c-c078-43e2c352927d"
      },
      "execution_count": null,
      "outputs": [
        {
          "output_type": "stream",
          "name": "stdout",
          "text": [
            "[[0.7884146]]\n"
          ]
        }
      ]
    },
    {
      "cell_type": "code",
      "source": [
        "cur.next()"
      ],
      "metadata": {
        "colab": {
          "base_uri": "https://localhost:8080/"
        },
        "id": "adlXx06idbpS",
        "outputId": "109eb531-6a74-4aa0-ae61-a094e8866c67"
      },
      "execution_count": null,
      "outputs": [
        {
          "output_type": "execute_result",
          "data": {
            "text/plain": [
              "{'_id': ObjectId('5307f231166663d2e3f71279'),\n",
              " 'bug1': 214510,\n",
              " 'bug2': 214318,\n",
              " 'dec': -1}"
            ]
          },
          "metadata": {},
          "execution_count": 22
        }
      ]
    },
    {
      "cell_type": "code",
      "source": [
        "bug_doc1 = collection.find_one({'bug_id':'214510'})\n",
        "bug1 = processDocument(bug_doc1)\n",
        "bug_doc2 = collection.find_one({'bug_id':'214318'})\n",
        "bug2 = processDocument(bug_doc2)\n",
        "vector1 = mean_vector(model,bug1)\n",
        "vector2 = mean_vector(model,bug2)\n",
        "print(cosine_similarity([vector1],[vector2]))"
      ],
      "metadata": {
        "colab": {
          "base_uri": "https://localhost:8080/"
        },
        "id": "02jxQ2kpdg_I",
        "outputId": "3ae95d53-875c-4520-ae63-f3eea528e459"
      },
      "execution_count": null,
      "outputs": [
        {
          "output_type": "stream",
          "name": "stdout",
          "text": [
            "[[0.6877037]]\n"
          ]
        }
      ]
    },
    {
      "cell_type": "code",
      "source": [
        "cur.next()"
      ],
      "metadata": {
        "colab": {
          "base_uri": "https://localhost:8080/"
        },
        "id": "iscHReMSdkkA",
        "outputId": "6c73a34d-fb66-4e78-f3a5-68f0b8140c87"
      },
      "execution_count": null,
      "outputs": [
        {
          "output_type": "execute_result",
          "data": {
            "text/plain": [
              "{'_id': ObjectId('5307f231166663d2e3f7127a'),\n",
              " 'bug1': 214971,\n",
              " 'bug2': 214241,\n",
              " 'dec': -1}"
            ]
          },
          "metadata": {},
          "execution_count": 24
        }
      ]
    },
    {
      "cell_type": "code",
      "source": [
        "bug_doc1 = collection.find_one({'bug_id':'214971'})\n",
        "bug1 = processDocument(bug_doc1)\n",
        "bug_doc2 = collection.find_one({'bug_id':'214241'})\n",
        "bug2 = processDocument(bug_doc2)\n",
        "vector1 = mean_vector(model,bug1)\n",
        "vector2 = mean_vector(model,bug2)\n",
        "print(cosine_similarity([vector1],[vector2]))"
      ],
      "metadata": {
        "colab": {
          "base_uri": "https://localhost:8080/"
        },
        "id": "zCC6vPpZdmOR",
        "outputId": "30691fad-850d-4513-8e42-212eb1e03cee"
      },
      "execution_count": null,
      "outputs": [
        {
          "output_type": "stream",
          "name": "stdout",
          "text": [
            "[[0.6737332]]\n"
          ]
        }
      ]
    },
    {
      "cell_type": "code",
      "source": [
        "cur.next()"
      ],
      "metadata": {
        "colab": {
          "base_uri": "https://localhost:8080/"
        },
        "id": "-VLbrjLMdpnU",
        "outputId": "4943e293-8b95-4b3c-d0f2-e7906b640468"
      },
      "execution_count": null,
      "outputs": [
        {
          "output_type": "execute_result",
          "data": {
            "text/plain": [
              "{'_id': ObjectId('5307f231166663d2e3f71281'),\n",
              " 'bug1': 214305,\n",
              " 'bug2': 214303,\n",
              " 'dec': 1}"
            ]
          },
          "metadata": {},
          "execution_count": 32
        }
      ]
    },
    {
      "cell_type": "code",
      "source": [
        "bug_doc1 = collection.find_one({'bug_id':'214305'})\n",
        "bug1 = processDocument(bug_doc1)\n",
        "bug_doc2 = collection.find_one({'bug_id':'214303'})\n",
        "bug2 = processDocument(bug_doc2)\n",
        "vector1 = mean_vector(model,bug1)\n",
        "vector2 = mean_vector(model,bug2)\n",
        "print(cosine_similarity([vector1],[vector2]))"
      ],
      "metadata": {
        "colab": {
          "base_uri": "https://localhost:8080/"
        },
        "id": "bLMcbY_LdrQl",
        "outputId": "f40ae066-71ae-4720-a804-18585ca85a03"
      },
      "execution_count": null,
      "outputs": [
        {
          "output_type": "stream",
          "name": "stdout",
          "text": [
            "[[0.9686242]]\n"
          ]
        }
      ]
    },
    {
      "cell_type": "code",
      "source": [
        "cur.next()"
      ],
      "metadata": {
        "colab": {
          "base_uri": "https://localhost:8080/"
        },
        "id": "xN-q8WA2dyV4",
        "outputId": "696a45d2-dfb9-420f-8cd3-085f7fb6b5b4"
      },
      "execution_count": null,
      "outputs": [
        {
          "output_type": "execute_result",
          "data": {
            "text/plain": [
              "{'_id': ObjectId('5307f231166663d2e3f71285'),\n",
              " 'bug1': 214306,\n",
              " 'bug2': 214305,\n",
              " 'dec': 1}"
            ]
          },
          "metadata": {},
          "execution_count": 37
        }
      ]
    },
    {
      "cell_type": "code",
      "source": [
        "bug_doc1 = collection.find_one({'bug_id':'214306'})\n",
        "bug1 = processDocument(bug_doc1)\n",
        "bug_doc2 = collection.find_one({'bug_id':'214305'})\n",
        "bug2 = processDocument(bug_doc2)\n",
        "vector1 = mean_vector(model,bug1)\n",
        "vector2 = mean_vector(model,bug2)\n",
        "print(cosine_similarity([vector1],[vector2]))"
      ],
      "metadata": {
        "colab": {
          "base_uri": "https://localhost:8080/"
        },
        "id": "oeMceHCid0Ys",
        "outputId": "2c6d1143-8de8-456f-da74-159a6ddcb22c"
      },
      "execution_count": null,
      "outputs": [
        {
          "output_type": "stream",
          "name": "stdout",
          "text": [
            "[[0.98087925]]\n"
          ]
        }
      ]
    },
    {
      "cell_type": "code",
      "source": [
        ""
      ],
      "metadata": {
        "id": "5TYTzPj9d6RC"
      },
      "execution_count": null,
      "outputs": []
    },
    {
      "cell_type": "code",
      "source": [
        ""
      ],
      "metadata": {
        "id": "OUIUqa4hfO3-"
      },
      "execution_count": null,
      "outputs": []
    },
    {
      "cell_type": "code",
      "source": [
        ""
      ],
      "metadata": {
        "id": "n1fZ5jdmfzhd"
      },
      "execution_count": null,
      "outputs": []
    }
  ]
}